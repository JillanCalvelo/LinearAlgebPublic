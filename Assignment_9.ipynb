{
  "nbformat": 4,
  "nbformat_minor": 0,
  "metadata": {
    "colab": {
      "name": "Assignment 9.ipynb",
      "provenance": [],
      "collapsed_sections": [],
      "toc_visible": true,
      "authorship_tag": "ABX9TyMz/JEVFhZTyIu5AJ/+3ku6",
      "include_colab_link": true
    },
    "kernelspec": {
      "name": "python3",
      "display_name": "Python 3"
    },
    "language_info": {
      "name": "python"
    }
  },
  "cells": [
    {
      "cell_type": "markdown",
      "metadata": {
        "id": "view-in-github",
        "colab_type": "text"
      },
      "source": [
        "<a href=\"https://colab.research.google.com/github/JillanCalvelo/LinearAlgebPublic/blob/main/Assignment_9.ipynb\" target=\"_parent\"><img src=\"https://colab.research.google.com/assets/colab-badge.svg\" alt=\"Open In Colab\"/></a>"
      ]
    },
    {
      "cell_type": "markdown",
      "metadata": {
        "id": "XFqWulp7crus"
      },
      "source": [
        "#Lab 2 - Plotting Vector using numpy and matplotlib"
      ]
    },
    {
      "cell_type": "markdown",
      "metadata": {
        "id": "4hxzJ3YIc52R"
      },
      "source": [
        "##Objectives\n",
        "#### At the end of this activity you will be able to:\n",
        "1. Be familiar with the librqaries in Python for their numerical and scientiic programming.\n",
        "2. Visualize vectors through Python programming.\n",
        "3. Perform simple vector operations through code.\n",
        "\n"
      ]
    },
    {
      "cell_type": "markdown",
      "metadata": {
        "id": "ORJ8l962dcuJ"
      },
      "source": [
        "##Represents Vectors"
      ]
    },
    {
      "cell_type": "markdown",
      "metadata": {
        "id": "Sn3bsdn6dgg2"
      },
      "source": [
        "$$ A = 4\\hat{x} + 3\\hat{y} \\\\\n",
        "B = 2\\hat{x} - 5\\hat{y}\\\\\n",
        "C = 4\\hat{x} + 3\\hat{y} - 2\\hat{z}\\\\\n",
        "D = 2\\hat{i} - 2\\hat{j} + 3\\hat{k} $$"
      ]
    },
    {
      "cell_type": "markdown",
      "metadata": {
        "id": "uw_IOsJoePoh"
      },
      "source": [
        "###matrix equivalent:\n",
        "\n",
        "$$ A = \\begin{bmatrix} 4 \\\\ 3\\end{bmatrix} , B = \\begin{bmatrix} 2 \\\\ -5\\end{bmatrix} ,C = \\begin{bmatrix} 4 \\\\ 3 \\\\ -2 \\end{bmatrix}, D = \\begin{bmatrix} 2 \\\\ -2 \\\\ 3 \\end{bmatrix}\n",
        "$$"
      ]
    },
    {
      "cell_type": "markdown",
      "metadata": {
        "id": "xHZxHnvjfQBe"
      },
      "source": [
        "$$ A = \\begin{bmatrix} 4 & 3\\end{bmatrix} , B = \\begin{bmatrix} 2 & -5\\end{bmatrix} , C = \\begin{bmatrix} 4 & 3 & -2\\end{bmatrix}, D = \\begin{bmatrix} 2 & -2 & 3\\end{bmatrix}\n",
        "$$"
      ]
    },
    {
      "cell_type": "code",
      "metadata": {
        "id": "Pb84zRQwhDnv"
      },
      "source": [
        "import numpy as np\n"
      ],
      "execution_count": 2,
      "outputs": []
    },
    {
      "cell_type": "code",
      "metadata": {
        "colab": {
          "base_uri": "https://localhost:8080/"
        },
        "id": "Rshsqjwfg9ES",
        "outputId": "bf044594-e788-49b8-d094-b0580f222bdb"
      },
      "source": [
        "A = np.array([4, 3])\n",
        "B = np.array([2, -5])\n",
        "C = np.array([\n",
        "              [4],\n",
        "              [3],\n",
        "              [-2]\n",
        "])\n",
        "D = np.array ([[2],\n",
        "              [-2],\n",
        "              [3]])\n",
        "print('Vector A is ', A)\n",
        "print('Vector B is ', B)\n",
        "print('Vector C is ', C)\n",
        "print('Vector D is ', D)"
      ],
      "execution_count": 3,
      "outputs": [
        {
          "output_type": "stream",
          "name": "stdout",
          "text": [
            "Vector A is  [4 3]\n",
            "Vector B is  [ 2 -5]\n",
            "Vector C is  [[ 4]\n",
            " [ 3]\n",
            " [-2]]\n",
            "Vector D is  [[ 2]\n",
            " [-2]\n",
            " [ 3]]\n"
          ]
        }
      ]
    },
    {
      "cell_type": "code",
      "metadata": {
        "colab": {
          "base_uri": "https://localhost:8080/"
        },
        "id": "gO0GkiR0h-Ym",
        "outputId": "05b6db0b-6719-40ff-ecdf-19cf70eb2cba"
      },
      "source": [
        "H = np.array ([1,0,2,5,-0.2,0])\n",
        "H.shape"
      ],
      "execution_count": null,
      "outputs": [
        {
          "output_type": "execute_result",
          "data": {
            "text/plain": [
              "(6,)"
            ]
          },
          "metadata": {},
          "execution_count": 4
        }
      ]
    },
    {
      "cell_type": "code",
      "metadata": {
        "colab": {
          "base_uri": "https://localhost:8080/"
        },
        "id": "U2rc7tFeiD6O",
        "outputId": "f433a66c-c81c-474f-c65c-9b5cdda0232c"
      },
      "source": [
        "D.size"
      ],
      "execution_count": null,
      "outputs": [
        {
          "output_type": "execute_result",
          "data": {
            "text/plain": [
              "3"
            ]
          },
          "metadata": {},
          "execution_count": 8
        }
      ]
    },
    {
      "cell_type": "code",
      "metadata": {
        "colab": {
          "base_uri": "https://localhost:8080/"
        },
        "id": "PqkzogIAiNi1",
        "outputId": "d8abcb79-60b6-40f9-c5df-25adc8e7bcc5"
      },
      "source": [
        "##Dimension\n",
        "D.ndim"
      ],
      "execution_count": null,
      "outputs": [
        {
          "output_type": "execute_result",
          "data": {
            "text/plain": [
              "2"
            ]
          },
          "metadata": {},
          "execution_count": 15
        }
      ]
    },
    {
      "cell_type": "code",
      "metadata": {
        "colab": {
          "base_uri": "https://localhost:8080/"
        },
        "id": "htqu0Y45ik1h",
        "outputId": "cca2aa93-152a-4904-8562-20aa8b6e0eed"
      },
      "source": [
        "pos1 = np.array([0,0,0])\n",
        "pos2 = np.array([0,1,3])\n",
        "pos3 = np.array([1,5,-2])\n",
        "pos4 = np.array([5,-3,3])\n",
        "R = pos1 + pos2 + pos3 + pos4\n",
        "R\n"
      ],
      "execution_count": null,
      "outputs": [
        {
          "output_type": "execute_result",
          "data": {
            "text/plain": [
              "array([ 0, -1, -3])"
            ]
          },
          "metadata": {},
          "execution_count": 20
        }
      ]
    },
    {
      "cell_type": "markdown",
      "metadata": {
        "id": "v4Iw9itulHds"
      },
      "source": [
        "##Scaling"
      ]
    },
    {
      "cell_type": "code",
      "metadata": {
        "id": "hqVbgsuwmy1o",
        "colab": {
          "base_uri": "https://localhost:8080/"
        },
        "outputId": "662c04f8-80c3-4755-9dfa-795fa45afc1a"
      },
      "source": [
        "#S = 5 * A\n",
        "S = np.multiply(5,A)\n",
        "S"
      ],
      "execution_count": null,
      "outputs": [
        {
          "output_type": "execute_result",
          "data": {
            "text/plain": [
              "array([ 5, -5])"
            ]
          },
          "metadata": {},
          "execution_count": 19
        }
      ]
    },
    {
      "cell_type": "markdown",
      "metadata": {
        "id": "03OPqVJhmzFJ"
      },
      "source": [
        "##Matplotlib"
      ]
    },
    {
      "cell_type": "code",
      "metadata": {
        "id": "lQe8aK50l-nC"
      },
      "source": [
        "import matplotlib.pyplot as plt\n",
        "import matplotlib\n",
        "%matplotlib inline"
      ],
      "execution_count": 4,
      "outputs": []
    },
    {
      "cell_type": "code",
      "metadata": {
        "colab": {
          "base_uri": "https://localhost:8080/",
          "height": 265
        },
        "id": "h2rOYZhLmR-2",
        "outputId": "a081bde8-d659-40cb-d6d2-af676317d9e2"
      },
      "source": [
        "A = [1,-1]\n",
        "B = [5,2]\n",
        "plt.scatter(A[0], A[1], label='A', c='green')\n",
        "plt.scatter(B[0], B[1], label='B', c='magenta')\n",
        "plt.grid()\n",
        "plt.legend()\n",
        "plt.show()"
      ],
      "execution_count": 5,
      "outputs": [
        {
          "output_type": "display_data",
          "data": {
            "image/png": "[encoded data removed]",
            "text/plain": [
              "<Figure size 432x288 with 1 Axes>"
            ]
          },
          "metadata": {
            "needs_background": "light"
          }
        }
      ]
    },
    {
      "cell_type": "code",
      "metadata": {
        "id": "OWA8I_7xm3BP",
        "colab": {
          "base_uri": "https://localhost:8080/",
          "height": 367
        },
        "outputId": "fdec0797-7f78-49a1-f66e-82ebb5951946"
      },
      "source": [
        "A = np.array([3,-1])\n",
        "B = np.array([2,4])\n",
        "R = A + B\n",
        "Magnitude = np.sqrt(np.sum(R**2))\n",
        "plt.title(\"Resultant Vector\\nMagnitude:{}\".format(Magnitude))\n",
        "plt.xlim(-5,5)\n",
        "plt.ylim(-5,5)\n",
        "plt.quiver(0, 0, A[0], A[1], angles='xy', scale_units='xy', scale=1, label='A', color='red')\n",
        "plt.quiver(A[0], A[1], B[0], B[1], angles = 'xy',scale_units='xy', scale=1, label='B', color='green')\n",
        "R = A + B\n",
        "plt.quiver(0 ,0, R[0], R[1],angles='xy', scale_units='xy', scale=1, label='R', color='black')\n",
        "plt.grid()\n",
        "plt.legend()\n",
        "plt.show()\n",
        "print(R)\n",
        "Magnitude = np.sqrt(np.sum(R**2))\n",
        "print(Magnitude)\n",
        "Slope = R[1]/R[0]\n",
        "print(Slope)\n",
        "Angle = (np.arctan(Slope))*(180/np.pi)\n",
        "print(Angle)"
      ],
      "execution_count": 6,
      "outputs": [
        {
          "output_type": "display_data",
          "data": {
            "image/png": "[encoded data removed]",
            "text/plain": [
              "<Figure size 432x288 with 1 Axes>"
            ]
          },
          "metadata": {
            "needs_background": "light"
          }
        },
        {
          "output_type": "stream",
          "name": "stdout",
          "text": [
            "[5 3]\n",
            "5.830951894845301\n",
            "0.6\n",
            "30.96375653207352\n"
          ]
        }
      ]
    },
    {
      "cell_type": "markdown",
      "metadata": {
        "id": "0sY_BULap7Qh"
      },
      "source": [
        "#Activity"
      ]
    },
    {
      "cell_type": "markdown",
      "metadata": {
        "id": "qYD-krSRqAgH"
      },
      "source": [
        "##Try for yourself\n",
        "\n",
        "Try to implement subtraction, multiplication, and division with vectors $A$ and $B$!"
      ]
    },
    {
      "cell_type": "markdown",
      "metadata": {
        "id": "zrdWka1U0Rkj"
      },
      "source": [
        "$$ A = \\begin{bmatrix} 4 \\\\ 3\\end{bmatrix} , B = \\begin{bmatrix} 2 \\\\ -5\\end{bmatrix}\n",
        "$$"
      ]
    },
    {
      "cell_type": "code",
      "metadata": {
        "colab": {
          "base_uri": "https://localhost:8080/"
        },
        "id": "htA9KEYkq32E",
        "outputId": "211d395d-9a11-416d-c522-2c109005d3fa"
      },
      "source": [
        "print('Vector A is ', A)\n",
        "print('Vector B is ', B)"
      ],
      "execution_count": null,
      "outputs": [
        {
          "output_type": "stream",
          "name": "stdout",
          "text": [
            "Vector A is  [4 3]\n",
            "Vector B is  [ 2 -5]\n"
          ]
        }
      ]
    },
    {
      "cell_type": "code",
      "metadata": {
        "colab": {
          "base_uri": "https://localhost:8080/"
        },
        "id": "zpHW-Po7qw8Z",
        "outputId": "52729333-b8a3-43a9-8978-4b1d7780b96d"
      },
      "source": [
        "Su = A - B \n",
        "Su"
      ],
      "execution_count": null,
      "outputs": [
        {
          "output_type": "execute_result",
          "data": {
            "text/plain": [
              "array([2, 8])"
            ]
          },
          "metadata": {},
          "execution_count": 8
        }
      ]
    },
    {
      "cell_type": "code",
      "metadata": {
        "colab": {
          "base_uri": "https://localhost:8080/"
        },
        "id": "vk99vfPYq8Ec",
        "outputId": "89529bf9-f34e-4d9f-b4bf-3973d474fd72"
      },
      "source": [
        "Mu = A * B\n",
        "Mu"
      ],
      "execution_count": null,
      "outputs": [
        {
          "output_type": "execute_result",
          "data": {
            "text/plain": [
              "array([  8, -15])"
            ]
          },
          "metadata": {},
          "execution_count": 10
        }
      ]
    },
    {
      "cell_type": "code",
      "metadata": {
        "colab": {
          "base_uri": "https://localhost:8080/"
        },
        "id": "Cq0umgN0rFBP",
        "outputId": "671eb701-ce40-449c-84d8-bf3bab2feb9b"
      },
      "source": [
        "Di = A / B\n",
        "Di"
      ],
      "execution_count": null,
      "outputs": [
        {
          "output_type": "execute_result",
          "data": {
            "text/plain": [
              "array([ 2. , -0.6])"
            ]
          },
          "metadata": {},
          "execution_count": 11
        }
      ]
    },
    {
      "cell_type": "markdown",
      "metadata": {
        "id": "WwtLHKzUrM4w"
      },
      "source": [
        "Try to implement scaling with two vectors."
      ]
    },
    {
      "cell_type": "code",
      "metadata": {
        "colab": {
          "base_uri": "https://localhost:8080/"
        },
        "id": "LZQU8KnFrO25",
        "outputId": "f8c2c472-8701-469c-b37d-f710ae3cd724"
      },
      "source": [
        "S1 = 6 * A\n",
        "S1"
      ],
      "execution_count": 35,
      "outputs": [
        {
          "output_type": "execute_result",
          "data": {
            "text/plain": [
              "array([ 0, 30])"
            ]
          },
          "metadata": {},
          "execution_count": 35
        }
      ]
    },
    {
      "cell_type": "code",
      "metadata": {
        "colab": {
          "base_uri": "https://localhost:8080/"
        },
        "id": "CF2mZCJWrc6w",
        "outputId": "723f32c2-9860-4082-8adc-f3655ccb5d61"
      },
      "source": [
        "S2 = 7 * B\n",
        "S2"
      ],
      "execution_count": null,
      "outputs": [
        {
          "output_type": "execute_result",
          "data": {
            "text/plain": [
              "array([ 14, -35])"
            ]
          },
          "metadata": {},
          "execution_count": 13
        }
      ]
    },
    {
      "cell_type": "markdown",
      "metadata": {
        "id": "6tXnrsYxyn5-"
      },
      "source": [
        "Try plotting Three Vectors and show the Resultant Vector as a result.\n",
        "Use Head to Tail Method."
      ]
    },
    {
      "cell_type": "code",
      "metadata": {
        "colab": {
          "base_uri": "https://localhost:8080/",
          "height": 268
        },
        "id": "wMCoSvp70gTE",
        "outputId": "b11cb6ca-c80c-460f-bbdd-0184a96c4d4f"
      },
      "source": [
        "n = A.shape [0]\n",
        "plt.xlim(-10, 20)\n",
        "plt.ylim(-10, 20)\n",
        "plt.quiver(0,0, A[0], A[1], angles='xy', scale_units='xy', scale=1, color='red')\n",
        "plt.quiver(A[0],A[1], B[0], B[1], angles='xy', scale_units='xy',scale=1, color='blue')\n",
        "plt.quiver(0,0, R[0], R[1], angles='xy', scale_units='xy',scale=1, color='green')\n",
        "plt.grid()\n",
        "plt.show()"
      ],
      "execution_count": 43,
      "outputs": [
        {
          "output_type": "display_data",
          "data": {
            "image/png": "[encoded data removed]",
            "text/plain": [
              "<Figure size 432x288 with 1 Axes>"
            ]
          },
          "metadata": {
            "needs_background": "light"
          }
        }
      ]
    },
    {
      "cell_type": "code",
      "metadata": {
        "colab": {
          "base_uri": "https://localhost:8080/",
          "height": 367
        },
        "id": "oStTrQU-1aal",
        "outputId": "1e0ee25d-3598-4a7b-a0ba-a58f7ce7c316"
      },
      "source": [
        "A = np.array([0, 5])\n",
        "B = np.array([3, 5])\n",
        "C = np.array([4, 1])\n",
        "plt.title(\"Resultant Vector\\nMagnitude:{}\")\n",
        "plt.xlim(-5, 20)\n",
        "plt.ylim(-5, 20)\n",
        "plt.quiver(0, 0, A[0], A[1], angles='xy', scale_units='xy', scale=1, color='violet')\n",
        "plt.quiver(A[0], A[1], B[0], B[1], angles='xy', scale_units='xy', scale=1, color='red')\n",
        "plt.quiver(3, 10, C[0], C[1], angles='xy', scale_units='xy', scale=1, color='blue')\n",
        "R = A + B + C\n",
        "plt.quiver(0, 0, R[0], R[1], angles='xy', scale_units='xy', scale=1, color='yellow')\n",
        "plt.grid()\n",
        "plt.show()\n",
        "print(R)\n",
        "Magnitude = np.sqrt(np.sum(R**2))\n",
        "print(Magnitude)\n",
        "Slope = R[1]/R[0]\n",
        "print(Slope)\n",
        "Angle = (np.arctan(Slope))*(180/np.pi)\n",
        "print(Angle)"
      ],
      "execution_count": 37,
      "outputs": [
        {
          "output_type": "display_data",
          "data": {
            "image/png": "[encoded data removed]",
            "text/plain": [
              "<Figure size 432x288 with 1 Axes>"
            ]
          },
          "metadata": {
            "needs_background": "light"
          }
        },
        {
          "output_type": "stream",
          "name": "stdout",
          "text": [
            "[ 7 11]\n",
            "13.038404810405298\n",
            "1.5714285714285714\n",
            "57.52880770915151\n"
          ]
        }
      ]
    },
    {
      "cell_type": "markdown",
      "metadata": {
        "id": "IMiBJOb03Dzc"
      },
      "source": [
        "![chartlin algbe 9.JPG](data:image/jpeg;base64,/9j/4AAQSkZJRgABAQEAYABgAAD/4RCgRXhpZgAATU0AKgAAAAgABAE7AAIAAAAPAAAISodpAAQAAAABAAAIWpydAAEAAAAeAAAQeuocAAcAAAgMAAAAPgAAAAAc6gAAAAgAAAAAAAAAAAAAAAAAAAAAAAAAAAAAAAAAAAAAAAAAAAAAAAAAAAAAAAAAAAAAAAAAAAAAAAAAAAAAAAAAAAAAAAAAAAAAAAAAAAAAAAAAAAAAAAAAAAAAAAAAAAAAAAAAAAAAAAAAAAAAAAAAAAAAAAAAAAAAAAAAAAAAAAAAAAAAAAAAAAAAAAAAAAAAAAAAAAAAAAAAAAAAAAAAAAAAAAAAAAAAAAAAAAAAAAAAAAAAAAAAAAAAAAAAAAAAAAAAAAAAAAAAAAAAAAAAAAAAAAAAAAAAAAAAAAAAAAAAAAAAAAAAAAAAAAAAAAAAAAAAAAAAAAAAAAAAAAAAAAAAAAAAAAAAAAAAAAAAAAAAAAAAAAAAAAAAAAAAAAAAAAAAAAAAAAAAAAAAAAAAAAAAAAAAAAAAAAAAAAAAAAAAAAAAAAAAAAAAAAAAAAAAAAAAAAAAAAAAAAAAAAAAAAAAAAAAAAAAAAAAAAAAAAAAAAAAAAAAAAAAAAAAAAAAAAAAAAAAAAAAAAAAAAAAAAAAAAAAAAAAAAAAAAAAAAAAAAAAAAAAAAAAAAAAAAAAAAAAAAAAAAAAAAAAAAAAAAAAAAAAAAAAAAAAAAAAAAAAAAAAAAAAAAAAAAAAAAAAAAAAAAAAAAAAAAAAAAAAAAAAAAAAAAAAAAAAAAAAAAAAAAAAAAAAAAAAAAAAAAAAAAAAAAAAAAAAAAAAAAAAAAAAAAAAAAAAAAAAAAAAAAAAAAAAAAAAAAAAAAAAAAAAAAAAAAAAAAAAAAAAAAAAAAAAAAAAAAAAAAAAAAAAAAAAAAAAAAAAAAAAAAAAAAAAAAAAAAAAAAAAAAAAAAAAAAAAAAAAAAAAAAAAAAAAAAAAAAAAAAAAAAAAAAAAAAAAAAAAAAAAAAAAAAAAAAAAAAAAAAAAAAAAAAAAAAAAAAAAAAAAAAAAAAAAAAAAAAAAAAAAAAAAAAAAAAAAAAAAAAAAAAAAAAAAAAAAAAAAAAAAAAAAAAAAAAAAAAAAAAAAAAAAAAAAAAAAAAAAAAAAAAAAAAAAAAAAAAAAAAAAAAAAAAAAAAAAAAAAAAAAAAAAAAAAAAAAAAAAAAAAAAAAAAAAAAAAAAAAAAAAAAAAAAAAAAAAAAAAAAAAAAAAAAAAAAAAAAAAAAAAAAAAAAAAAAAAAAAAAAAAAAAAAAAAAAAAAAAAAAAAAAAAAAAAAAAAAAAAAAAAAAAAAAAAAAAAAAAAAAAAAAAAAAAAAAAAAAAAAAAAAAAAAAAAAAAAAAAAAAAAAAAAAAAAAAAAAAAAAAAAAAAAAAAAAAAAAAAAAAAAAAAAAAAAAAAAAAAAAAAAAAAAAAAAAAAAAAAAAAAAAAAAAAAAAAAAAAAAAAAAAAAAAAAAAAAAAAAAAAAAAAAAAAAAAAAAAAAAAAAAAAAAAAAAAAAAAAAAAAAAAAAAAAAAAAAAAAAAAAAAAAAAAAAAAAAAAAAAAAAAAAAAAAAAAAAAAAAAAAAAAAAAAAAAAAAAAAAAAAAAAAAAAAAAAAAAAAAAAAAAAAAAAAAAAAAAAAAAAAAAAAAAAAAAAAAAAAAAAAAAAAAAAAAAAAAAAAAAAAAAAAAAAAAAAAAAAAAAAAAAAAAAAAAAAAAAAAAAAAAAAAAAAAAAAAAAAAAAAAAAAAAAAAAAAAAAAAAAAAAAAAAAAAAAAAAAAAAAAAAAAAAAAAAAAAAAAAAAAAAAAAAAAAAAAAAAAAAAAAAAAAAAAAAAAAAAAAAAAAAAAAAAAAAAAAAAAAAAAAAAAAAAAAAAAAAAAAAAAAAAAAAAAAAAAAAAAAAAAAAAAAAAAAAAAAAAAAAAAAAAAAAAAAAAAAAAAAAAAAAAAAAAAAAAAAAAAAAAAAAAAAAAAAAAAAAAAAAAAAAAAAAAAAAAAAAAAAAAAAAAAAAAAAAAAAAAAAAAAAAAAAAAAAAAAAAAAAAAAAAAAAAAAAAAAAAAAAAAAAAAAAAAAAAAAAAAAAAAAAAAAAAAAAAAAAAAAAAAAAAAAAAAAAAAAAAAAAAAAAAAAAAAAAAAAAAAAAAAAAAAAAAAAAAAAAAAAAAAAAAAAAAAAAAAAAAAAAAAAAAAAAAAAAAAAAAAAAAAAAAAAAAAAAAAAAAAAAAAAAAAAAAAAAAAAAAAAAAAAAAAAAAAAAAAAAAAAAAAAAAAAAAAAAAAAAAAAAAAAAAAAAAAAAAAAAAAAAAAAAAAAAAAAAAAAAAAAAAAAAAAAAAAAAAAAAAAAAAAAAAAAAAAAAAAAAAAAAAAAAAAAAAAAAAAAAAAAAAAAAAAAAAAAAAAAAAAAAAAAAAAAAAAAAAAAAAAAAAAAAAAAAAAAAAAAAAAAAAAAAAAAAAAAAAAAAAAAAAAAAAAAAAAAAAAAAAAAAAAAAAAAAAAAAAAAAAAAAAAAAAAAAAAAAAAAAAAAAAAAAAAAAAAAAAAAAAAAAAAAAAAAAAAAAAAAAAAAAAAAAAAAAAAAAAAAAAAAAAAAAAAAAAAAAAAAAAAAAAAAAAAAAAAAAAAAAAAAAAAAAAAAAAAAAAAAAAAAAAAAAAAAAAAAAAAAAAAAAAAAAAAAAAAAAAAAAAAAAAAAAAAAAAAAAAAAAAAAAAAAAAAAAAAAAAAAAAAAAAAAAAAAAAAAAAAAAAAAAAAAAAAAAAAAAAAAAAAAAAAAAAAAAAAAAAAAAAAAAAAAAAAAAAAAAAAAAAAAAAAAAAAAAAAAAAAAAAAAAAAAEppbGxhbiBDYWx2ZWxvAAAAAeocAAcAAAgMAAAIbAAAAAAc6gAAAAgAAAAAAAAAAAAAAAAAAAAAAAAAAAAAAAAAAAAAAAAAAAAAAAAAAAAAAAAAAAAAAAAAAAAAAAAAAAAAAAAAAAAAAAAAAAAAAAAAAAAAAAAAAAAAAAAAAAAAAAAAAAAAAAAAAAAAAAAAAAAAAAAAAAAAAAAAAAAAAAAAAAAAAAAAAAAAAAAAAAAAAAAAAAAAAAAAAAAAAAAAAAAAAAAAAAAAAAAAAAAAAAAAAAAAAAAAAAAAAAAAAAAAAAAAAAAAAAAAAAAAAAAAAAAAAAAAAAAAAAAAAAAAAAAAAAAAAAAAAAAAAAAAAAAAAAAAAAAAAAAAAAAAAAAAAAAAAAAAAAAAAAAAAAAAAAAAAAAAAAAAAAAAAAAAAAAAAAAAAAAAAAAAAAAAAAAAAAAAAAAAAAAAAAAAAAAAAAAAAAAAAAAAAAAAAAAAAAAAAAAAAAAAAAAAAAAAAAAAAAAAAAAAAAAAAAAAAAAAAAAAAAAAAAAAAAAAAAAAAAAAAAAAAAAAAAAAAAAAAAAAAAAAAAAAAAAAAAAAAAAAAAAAAAAAAAAAAAAAAAAAAAAAAAAAAAAAAAAAAAAAAAAAAAAAAAAAAAAAAAAAAAAAAAAAAAAAAAAAAAAAAAAAAAAAAAAAAAAAAAAAAAAAAAAAAAAAAAAAAAAAAAAAAAAAAAAAAAAAAAAAAAAAAAAAAAAAAAAAAAAAAAAAAAAAAAAAAAAAAAAAAAAAAAAAAAAAAAAAAAAAAAAAAAAAAAAAAAAAAAAAAAAAAAAAAAAAAAAAAAAAAAAAAAAAAAAAAAAAAAAAAAAAAAAAAAAAAAAAAAAAAAAAAAAAAAAAAAAAAAAAAAAAAAAAAAAAAAAAAAAAAAAAAAAAAAAAAAAAAAAAAAAAAAAAAAAAAAAAAAAAAAAAAAAAAAAAAAAAAAAAAAAAAAAAAAAAAAAAAAAAAAAAAAAAAAAAAAAAAAAAAAAAAAAAAAAAAAAAAAAAAAAAAAAAAAAAAAAAAAAAAAAAAAAAAAAAAAAAAAAAAAAAAAAAAAAAAAAAAAAAAAAAAAAAAAAAAAAAAAAAAAAAAAAAAAAAAAAAAAAAAAAAAAAAAAAAAAAAAAAAAAAAAAAAAAAAAAAAAAAAAAAAAAAAAAAAAAAAAAAAAAAAAAAAAAAAAAAAAAAAAAAAAAAAAAAAAAAAAAAAAAAAAAAAAAAAAAAAAAAAAAAAAAAAAAAAAAAAAAAAAAAAAAAAAAAAAAAAAAAAAAAAAAAAAAAAAAAAAAAAAAAAAAAAAAAAAAAAAAAAAAAAAAAAAAAAAAAAAAAAAAAAAAAAAAAAAAAAAAAAAAAAAAAAAAAAAAAAAAAAAAAAAAAAAAAAAAAAAAAAAAAAAAAAAAAAAAAAAAAAAAAAAAAAAAAAAAAAAAAAAAAAAAAAAAAAAAAAAAAAAAAAAAAAAAAAAAAAAAAAAAAAAAAAAAAAAAAAAAAAAAAAAAAAAAAAAAAAAAAAAAAAAAAAAAAAAAAAAAAAAAAAAAAAAAAAAAAAAAAAAAAAAAAAAAAAAAAAAAAAAAAAAAAAAAAAAAAAAAAAAAAAAAAAAAAAAAAAAAAAAAAAAAAAAAAAAAAAAAAAAAAAAAAAAAAAAAAAAAAAAAAAAAAAAAAAAAAAAAAAAAAAAAAAAAAAAAAAAAAAAAAAAAAAAAAAAAAAAAAAAAAAAAAAAAAAAAAAAAAAAAAAAAAAAAAAAAAAAAAAAAAAAAAAAAAAAAAAAAAAAAAAAAAAAAAAAAAAAAAAAAAAAAAAAAAAAAAAAAAAAAAAAAAAAAAAAAAAAAAAAAAAAAAAAAAAAAAAAAAAAAAAAAAAAAAAAAAAAAAAAAAAAAAAAAAAAAAAAAAAAAAAAAAAAAAAAAAAAAAAAAAAAAAAAAAAAAAAAAAAAAAAAAAAAAAAAAAAAAAAAAAAAAAAAAAAAAAAAAAAAAAAAAAAAAAAAAAAAAAAAAAAAAAAAAAAAAAAAAAAAAAAAAAAAAAAAAAAAAAAAAAAAAAAAAAAAAAAAAAAAAAAAAAAAAAAAAAAAAAAAAAAAAAAAAAAAAAAAAAAAAAAAAAAAAAAAAAAAAAAAAAAAAAAAAAAAAAAAAAAAAAAAAAAAAAAAAAAAAAAAAAAAAAAAAAAAAAAAAAAAAAAAAAAAAAAAAAAAAAAAAAAAAAAAAAAAAAAAAAAAAAAAAAAAAAAAAAAAAAAAAAAAAAAAAAAAAAAAAAAAAAAAAAAAAAAAAAAAAAAAAAAAAAAAAAAAAAAAAAAAAAAAAAAAAAAAAAAAAAAAAAAAAAAAAAAAAAAAAAAAAAAAAAAAAAAAAAAAAAAAAAAAAAAAAAAAAAAAAAAAAAAAAAAAAAAAAAAAAAAAAAAAAAAAAAAAAAAAAAAAAAAAAAAAAAAAAAAAAAAAAAAAAAAAAAAAAAAAAAAAAAAAAAAAAAAAAAAAAAAAAAAAAAAAAAAAAAAAAAAAAAAAAAAAAAAAAAAAAAAAAAAAAAAAAAAAAAAAAAAAAAAAAAAAAAAAAAAAAAAAAAAAAAAAAAAAAAAAAAAAAAAAAAAAAAAAAAAAAAAAAAAAAAAAAAAAAAAAAAAAAAAAAAAAAAAAAAAAAAAAAAAAAAAAAAAAAAAAAAAAAAAAAAAAAAAAAAAAAAAAAAAAAAAAAAAAAAAAAAAAAAAAAAAAAAAAAAAAAAAAAAAAAAAAAAAAAAAAAAAAAAAAAAAAAAAAAAAAAAAAAAAAAAAAAAAAAAAAAAASgBpAGwAbABhAG4AIABDAGEAbAB2AGUAbABvAAAA/+EKZ2h0dHA6Ly9ucy5hZG9iZS5jb20veGFwLzEuMC8APD94cGFja2V0IGJlZ2luPSfvu78nIGlkPSdXNU0wTXBDZWhpSHpyZVN6TlRjemtjOWQnPz4NCjx4OnhtcG1ldGEgeG1sbnM6eD0iYWRvYmU6bnM6bWV0YS8iPjxyZGY6UkRGIHhtbG5zOnJkZj0iaHR0cDovL3d3dy53My5vcmcvMTk5OS8wMi8yMi1yZGYtc3ludGF4LW5zIyI+PHJkZjpEZXNjcmlwdGlvbiByZGY6YWJvdXQ9InV1aWQ6ZmFmNWJkZDUtYmEzZC0xMWRhLWFkMzEtZDMzZDc1MTgyZjFiIiB4bWxuczpkYz0iaHR0cDovL3B1cmwub3JnL2RjL2VsZW1lbnRzLzEuMS8iLz48cmRmOkRlc2NyaXB0aW9uIHJkZjphYm91dD0idXVpZDpmYWY1YmRkNS1iYTNkLTExZGEtYWQzMS1kMzNkNzUxODJmMWIiIHhtbG5zOmRjPSJodHRwOi8vcHVybC5vcmcvZGMvZWxlbWVudHMvMS4xLyI+PGRjOmNyZWF0b3I+PHJkZjpTZXEgeG1sbnM6cmRmPSJodHRwOi8vd3d3LnczLm9yZy8xOTk5LzAyLzIyLXJkZi1zeW50YXgtbnMjIj48cmRmOmxpPkppbGxhbiBDYWx2ZWxvPC9yZGY6bGk+PC9yZGY6U2VxPg0KCQkJPC9kYzpjcmVhdG9yPjwvcmRmOkRlc2NyaXB0aW9uPjwvcmRmOlJERj48L3g6eG1wbWV0YT4NCiAgICAgICAgICAgICAgICAgICAgICAgICAgICAgICAgICAgICAgICAgICAgICAgICAgICAgICAgICAgICAgICAgICAgICAgICAgICAgICAgICAgICAgICAgICAgICAgICAgICAKICAgICAgICAgICAgICAgICAgICAgICAgICAgICAgICAgICAgICAgICAgICAgICAgICAgICAgICAgICAgICAgICAgICAgICAgICAgICAgICAgICAgICAgICAgICAgICAgICAgIAogICAgICAgICAgICAgICAgICAgICAgICAgICAgICAgICAgICAgICAgICAgICAgICAgICAgICAgICAgICAgICAgICAgICAgICAgICAgICAgICAgICAgICAgICAgICAgICAgICAgCiAgICAgICAgICAgICAgICAgICAgICAgICAgICAgICAgICAgICAgICAgICAgICAgICAgICAgICAgICAgICAgICAgICAgICAgICAgICAgICAgICAgICAgICAgICAgICAgICAgICAKICAgICAgICAgICAgICAgICAgICAgICAgICAgICAgICAgICAgICAgICAgICAgICAgICAgICAgICAgICAgICAgICAgICAgICAgICAgICAgICAgICAgICAgICAgICAgICAgICAgIAogICAgICAgICAgICAgICAgICAgICAgICAgICAgICAgICAgICAgICAgICAgICAgICAgICAgICAgICAgICAgICAgICAgICAgICAgICAgICAgICAgICAgICAgICAgICAgICAgICAgCiAgICAgICAgICAgICAgICAgICAgICAgICAgICAgICAgICAgICAgICAgICAgICAgICAgICAgICAgICAgICAgICAgICAgICAgICAgICAgICAgICAgICAgICAgICAgICAgICAgICAKICAgICAgICAgICAgICAgICAgICAgICAgICAgICAgICAgICAgICAgICAgICAgICAgICAgICAgICAgICAgICAgICAgICAgICAgICAgICAgICAgICAgICAgICAgICAgICAgICAgIAogICAgICAgICAgICAgICAgICAgICAgICAgICAgICAgICAgICAgICAgICAgICAgICAgICAgICAgICAgICAgICAgICAgICAgICAgICAgICAgICAgICAgICAgICAgICAgICAgICAgCiAgICAgICAgICAgICAgICAgICAgICAgICAgICAgICAgICAgICAgICAgICAgICAgICAgICAgICAgICAgICAgICAgICAgICAgICAgICAgICAgICAgICAgICAgICAgICAgICAgICAKICAgICAgICAgICAgICAgICAgICAgICAgICAgICAgICAgICAgICAgICAgICAgICAgICAgICAgICAgICAgICAgICAgICAgICAgICAgICAgICAgICAgICAgICAgICAgICAgICAgIAogICAgICAgICAgICAgICAgICAgICAgICAgICAgICAgICAgICAgICAgICAgICAgICAgICAgICAgICAgICAgICAgICAgICAgICAgICAgICAgICAgICAgICAgICAgICAgICAgICAgCiAgICAgICAgICAgICAgICAgICAgICAgICAgICAgICAgICAgICAgICAgICAgICAgICAgICAgICAgICAgICAgICAgICAgICAgICAgICAgICAgICAgICAgICAgICAgICAgICAgICAKICAgICAgICAgICAgICAgICAgICAgICAgICAgICAgICAgICAgICAgICAgICAgICAgICAgICAgICAgICAgICAgICAgICAgICAgICAgICAgICAgICAgICAgICAgICAgICAgICAgIAogICAgICAgICAgICAgICAgICAgICAgICAgICAgICAgICAgICAgICAgICAgICAgICAgICAgICAgICAgICAgICAgICAgICAgICAgICAgICAgICAgICAgICAgICAgICAgICAgICAgCiAgICAgICAgICAgICAgICAgICAgICAgICAgICAgICAgICAgICAgICAgICAgICAgICAgICAgICAgICAgICAgICAgICAgICAgICAgICAgICAgICAgICAgICAgICAgICAgICAgICAKICAgICAgICAgICAgICAgICAgICAgICAgICAgICAgICAgICAgICAgICAgICAgICAgICAgICAgICAgICAgICAgICAgICAgICAgICAgICAgICAgICAgICAgICAgICAgICAgICAgIAogICAgICAgICAgICAgICAgICAgICAgICAgICAgICAgICAgICAgICAgICAgICAgICAgICAgICAgICAgICAgICAgICAgICAgICAgICAgICAgICAgICAgICAgICAgICAgICAgICAgCiAgICAgICAgICAgICAgICAgICAgICAgICAgICAgICAgICAgICAgICAgICAgICAgICAgICAgICAgICAgICAgICAgICAgICAgICAgICAgICAgICAgICAgICAgICAgICAgICAgICAKICAgICAgICAgICAgICAgICAgICAgICAgICAgICAgICAgICAgICAgICAgICAgICAgICAgICAgICAgICAgICAgICAgICAgICAgICAgICAgICAgICAgICAgICAgICAgICAgICAgIAogICAgICAgICAgICAgICAgICAgICAgICAgICAgPD94cGFja2V0IGVuZD0ndyc/Pv/bAEMABwUFBgUEBwYFBggHBwgKEQsKCQkKFQ8QDBEYFRoZGBUYFxseJyEbHSUdFxgiLiIlKCkrLCsaIC8zLyoyJyorKv/bAEMBBwgICgkKFAsLFCocGBwqKioqKioqKioqKioqKioqKioqKioqKioqKioqKioqKioqKioqKioqKioqKioqKioqKv/AABEIAiEBKwMBIgACEQEDEQH/xAAfAAABBQEBAQEBAQAAAAAAAAAAAQIDBAUGBwgJCgv/xAC1EAACAQMDAgQDBQUEBAAAAX0BAgMABBEFEiExQQYTUWEHInEUMoGRoQgjQrHBFVLR8CQzYnKCCQoWFxgZGiUmJygpKjQ1Njc4OTpDREVGR0hJSlNUVVZXWFlaY2RlZmdoaWpzdHV2d3h5eoOEhYaHiImKkpOUlZaXmJmaoqOkpaanqKmqsrO0tba3uLm6wsPExcbHyMnK0tPU1dbX2Nna4eLj5OXm5+jp6vHy8/T19vf4+fr/xAAfAQADAQEBAQEBAQEBAAAAAAAAAQIDBAUGBwgJCgv/xAC1EQACAQIEBAMEBwUEBAABAncAAQIDEQQFITEGEkFRB2FxEyIygQgUQpGhscEJIzNS8BVictEKFiQ04SXxFxgZGiYnKCkqNTY3ODk6Q0RFRkdISUpTVFVWV1hZWmNkZWZnaGlqc3R1dnd4eXqCg4SFhoeIiYqSk5SVlpeYmZqio6Slpqeoqaqys7S1tre4ubrCw8TFxsfIycrS09TV1tfY2dri4+Tl5ufo6ery8/T19vf4+fr/2gAMAwEAAhEDEQA/APpGiiigAooooAKKKKACiiigAooooAKrahqNnpVjLe6ndRWttEMvLM4VV/E1X13WoNB003U8ck0jusNvbxAGS4lY4WNQe5Pc8AAk4AJrM0zw3Lc3kWseK2S91NW3wQA7rew9BEp6sBwZCNx5xtB2gAYPEOs6z/yLGitHbn/l/wBX3W6MPVIseY3/AAIID2Jpf+Ea1q++bWvFd7z1h0uFLSL8zvk/8frpqKAOa/4V/wCHn5vLe6v27tfX89wT/wB9ucfhS/8ACufBf8XhXR3b+89lGzD8SM10lFAHNf8ACvfCy/6jSltT2a0mkgI+hRgRSHwhcW3OjeJ9bs2HRZrgXiH2PnhmI+jA+9dNRQBzBvPF2j/Nf2Nnr1sv3pNNzb3AHr5MjFW98SA+gPStTRvEWm68so0+cmaAgT200bRTQE9A8bAMv4jB7ZrTrI1vw3Z608dyWks9RtwRbahbHbNDnsD0ZT3RgVPcUAa9FYOga3dTXk2i69GkOsWsYkYxjEd3ETgTR56DPDKeVPHIKsd6gAooooAKKKKACiiigAooooAKKKKACiiigAooooAKKKKACiiigAooooAKKKKACiiigAooooA5mVRqHxOhimGY9I00XMSnp5s7vHu+oSFwPaRq6auX1iQaH410/WZvlsr+H+zLqQ9IpN+63Y+gLNImf70iV1FABRRRQBxGv6xrFh41gQXstrpTPaxK6W8c1vuaX94kxAMsTsuAj8R84JyRUVt8TPJ0mC+13Qb2xin1efTEkM9rtVkuGiXgz7mPynIQMco5AK7SekvfCukajqq6jd28rXAZGbbcyokpQgp5kasEkCkZAYEA5I6ms27+G3hi+neae0vA7yzSkxancxgGaRZJAAsgAUyKr7RwGG4AHmgCnF8Qbm91zTLKy8M6mtvdajPYzXM7W4VGiEgfaBMScNHknGNoOMnArtqwrbwZotolusEN0Ps18+oRMb+dmWd87zuL5KtubKH5TuORya3aACiiigDmfGCizm0TWYxiez1OC3Lf3o7mRbdl+mZEb6ovpXTVy/iCVdY8TaT4ftzv+zzpqd+R/wAso4zmIH0LShSB6Rv6V1FABRRRQAUUUUAFFFFABRRRQAUUUUAFFFFABRRRQAUUUUAFFFFABRRRQAUUUUAFFFFABRRRQBDeWdvqFlNZ30EdxbToUlikXcrqeCCK5iO41TwYvkX0dxq2gp/qryMGW5s0/uyp96VR2dctj7wOC1dbRQBV07VLDWLFLzSryC8tn+7LBIHU+2R39qtVhah4P0q+vnv4Fm03UH+/e6dKYJH/AN/HEn0cMKrf2f4w0/iy1ux1WLsup2nly/8AfyEhf/IdAHTUVzQ1jxZb8XfhSCc/3rDVFcH/AL+pGR/nmq2peNtR0fSbvUdS8F6zHbWcDzzypcWbqiIpZjjz9x4B6AmgDrqK5r+3fEsvFv4OljJ6G71GBFH1KFz+QNIU8b3vDS6Ho6nqYllvXA9i3lDPuQfpQB0rusaM8jBVUZZmOAB61y83imfXHez8DxxXrcrJqsmTZ259iP8AXMP7qcf3mWnr4ItLt1k8S3974gZTuEV+6i3B/wCuCKsZx23BiPWulRFjjVI1CIowqqMAD0oAy9A0C28P2TxxPJc3Nw/m3d5Mcy3Mp6ux/QAcAAAAAVq0UUAFFFFABRRRQAUUUUAFFFFABRRRQAUUUUAFFFFABRRRQAUUUUAFFFFABRRRQAUUUUAFFFFABRRRQAUUUUAFc38R/wDklniv/sC3n/oh66SuU+KF9aWXws8S/bLqG38/SrqGLzZAvmOYXwi56sewHNAHV0VBZX1pqVqt1p11Dd275CywSB0bBwcEcdanoAKKKKACiiigAooooAKKKKACiiigAooooAKKKKACiiigAooooAKKKKACiiigAooooAKKKKACiiigArmR4xubie5Gl+FNa1KC3uJLc3UElmsbvGxR9okuFbAZSOVHINbeq6jDpGjXupXPENnbvPJ/uopY/oKo+D9Pm0vwfplrdj/ShbrJc+8z/PIfxdmNAFT/AISjV/8AoRPEH/f/AE//AOSqP+Eo1f8A6ETxB/3/ANP/APkqukooA5v/AISjV/8AoRPEH/f/AE//AOSqP+Eo1f8A6ETxB/3/ANP/APkqukooA5v/AISjV/8AoRPEH/f/AE//AOSq5vx/bX3jvwTf6DdeBtejadN0Exm08+TKvKN/x9evX1BI716RRQBxPh27u/DPhuw0XTfAXiBbaxhWJP3+n5bHVj/pXUnJPuTWl/wlGr/9CJ4g/wC/+n//ACVXSUUAc3/wlGr/APQieIP+/wDp/wD8lUf8JRq//QieIP8Av/p//wAlV0lFAHN/8JRq/wD0IniD/v8A6f8A/JVH/CUav/0IniD/AL/6f/8AJVdJRQBzE3i7U7eCSabwPr6RxqXdjPp+FAGSf+PqtzStQTVtHs9RiilhS7gSdYpgA6BlDAMASARnnBNY/jx2fwhc2ETES6pJHpyEHkee4jYj6IzN/wABrokRY41RFCqowoA4AoAWiiigAooooAKKKKACiiigAooooAKKKKACiiigAooooAKKKKACiiigAooooA5vxx/pOj2mkDltXv4LQj+9Hu8yYf8AfqOSukrm7v8A0/4k6fb9Y9KsJLtx6STN5UR/75S4H410lABVHStb0rXYZJtE1Oz1GKJ/Lke0uElVGxnaSpODyOKvV47JrGvW+nFNCfxDp3mX2rzSKnh6Vy+ZXlgI8yA7S25QDyCGYY3cqAexUV5Rba/4p1XXr60sNU1cSLKmy3OkKkdvHJZJKS0jw4V1kYbUY7ucMrA8RRap4h1u80yW6uPEsEFtqFlJKP7FaLG63dZRhrfLKJQATzjcTkDaQAer3F3b2gjN1PFCJZFijMjhd7scBRnqT2Hepa4H4hrqetGTS9F077RJZWr3ZmuhcQxxTDaYXidIHErqQx2Ag8j3x02heIoNatrXdbXlndzWouHt7uzmgZOdrL86jJDDBA5wVPRlJADS/F/hrW7z7JoviHStQudpfybS9jlfaOp2qxOOau6hq2naSsLarf2tktxKIYTczLGJJD0RdxGWODwOa8q8OrfXGv6UYYtenVfEOoXjWOoaRJbW1nDJJclZ0laKM7iko+Vnf/WkbQQCut8RptWm1y3TTtPvp2sYxJHBb2UjrqMcmVmhNwFaOL5VHDgFjt5ANAHpRIVSWOAOST2qhpeu6RrkJl0XVbLUYwSC9pcJKB+Kk1yup2eqa38I57SOS/1S8kjXzTe2y2s16gkDSp5ZVNgZA6AMq8EZ67js6Hd6Vq2qS6jp2j31rP8AZ1gkurvT5LQlQcrHiQKzYySCAVGTzzigDoKKKKAOb1j/AE/x14fsOqWiz6lJ7FVEMYP189yP9z2rpK5vQv8ATvGXiPUjysLQabEfURp5jEf8DnZT/ue1dJQAUUUUAFFFFABRRRQAUUUUAFFFFABRRRQAUUUUAFFFFABRRRQAUUUUAFFFVNV1GHSNGvdSujiGzt3nkP8AsopY/oKAMbwt/puseItXPKz3/wBkhP8A0zt1EZH/AH987866SuB8IeNvB2leD9Mtbvxj4fF2IFkuf+JpDzM/zyH73d2Y1tf8LH8Ef9Dl4f8A/BpB/wDFUAdJRXN/8LH8Ef8AQ5eH/wDwaQf/ABVH/Cx/BH/Q5eH/APwaQf8AxVAGzaaTp1hd3V1Y2FrbXF4we5mhhVHnYZwXIGWPJ5PrVuub/wCFj+CP+hy8P/8Ag0g/+Ko/4WP4I/6HLw//AODSD/4qgDpKjW2gW6kulhjFxIixvKEG9lUsVUnqQC7EDtuPqa5//hY/gj/ocvD/AP4NIP8A4qj/AIWP4I/6HLw//wCDSD/4qgDpKK5v/hY/gj/ocvD/AP4NIP8A4qj/AIWP4I/6HLw//wCDSD/4qgDpKK5v/hY/gj/ocvD/AP4NIP8A4qj/AIWP4I/6HLw//wCDSD/4qgDpKZNNHbwSTTMEjjUu7HooAyTXPf8ACx/BH/Q5eH//AAaQf/FVj+KvGnhvXPDs+iaF4k0q+vtWZLCOGzvo5JNsziN2AViflRmbPbbQBt+BIZE8GWVzcKUn1DfqEynqrzuZSp+m/b+FdDSIixxqiKFVRhQBwBS0AFFFFABRRRQAUUUUAFFFFABRRRQAUUUUAFFFFABRRRQAUUUUAFFFFABRRRQAUUUUAFFFFABRRRQAVzfxH/5JZ4r/AOwLef8Aoh66Sub+I/8AySzxX/2Bbz/0Q9AHSUUUUAFFFFABRRRQAUUUUAFFFFABRRRQAUUUUAFFFFABRRRQAUUUUAFFFFABRRRQAUUUUAFFFFABRRRQAVm61r9h4fhtpNSa4/0qbyII7a0luZJH2M+AkSs33UY5xjArSrm/FH/IxeDP+w1J/wCm+8oAP+E80j/nz8Qf+E5qH/xij/hPNI/58/EH/hOah/8AGK6SigDm/wDhPNI/58/EH/hOah/8Yo/4TzSP+fPxB/4Tmof/ABiukooA5v8A4TzSP+fPxB/4Tmof/GK4z4r6x/wlXw51LTfDo8TW+oshMaRaDqEYuBghoWPkgbWUkc8ZxmvTL3VLTT7mygu5GSS+m8iDETMGfaWwSAQvCk846VMLu3Nuk4niMMhUJJvG1ixAXB6HJIA9SaAOG8IeJ7fRfCOnWGsyeJtR1CKEfarmfQNRdnkPLcmHoCcD2Ara/wCE80j/AJ8/EH/hOah/8YrWutZsrK1ubi5kkjS2WR3UwPvKoMsUTG5wMjlQc9qtW9xHdWsVxbtvimQOjYIypGQcH2oA5/8A4TzSP+fPxB/4Tmof/GKP+E80j/nz8Qf+E5qH/wAYrpKKAOb/AOE80j/nz8Qf+E5qH/xirOl+LtK1fVRptsNQhu2hedY73S7m13ojKrFTLGobBkTIBz8wrbrm77/kqehf9gXUv/R9jQB0lFFFABRRRQAUUUUAFFFFABRRRQAUUUUAFFFFABRRRQAUUUUAFFFFABRRRQAUUUUAFc34o/5GLwZ/2GpP/TfeV0lc34o/5GLwZ/2GpP8A033lAHSUUUUAFY3jGZLbwTrU0ty1osdjKwnScwtGQhIIcEFTnHINbNZ2t69p3h2xju9XmeGCSZIFdIHk+dzhQdgOMnAyeMkDqRQB5zotjrWq6do12tnrN3ptzfwXJe51SKWVEa2dJbgSLMdqMZFIWNsrtYqq5AMq+FtTb4R6V4ek0TWFu9MksJ5EXVFVpjFcqZVjkE+R8iMyhiqrujxtZcLsan8R4LCd76BWvdJFg0qxxWc32hZ1uBCyuMFlAJwVKAqVOeuBv6r4v0fRJLNNSku4nvU3W6rYTyGQ/wB3Cofn5+4fm9qAOCuPDniCbVjqE2i65OYU1W3gR9WRvllKNASDcbShw64PIITIAVSL2g6T4xh8cabc3wvrbSkto0MAZHijQWoUxSYutobzgzbkhc8qPM2khd2Hxc66ve219MkMSahFBabdPnZ5Ee2WbYwBJV+WwSB0A25qSx+JPhXUZYI7PUpJGuGiEX+hzjd5jbEOSnC7/kLHgP8AISG4oA6miiigArm77/kqehf9gXUv/R9jXSVzd9/yVPQv+wLqX/o+xoA6SiiigAooooAKKKKACiiigAooooAKKKKACiiigAooooAKKKKACiiigAooooAKKKKACub8Uf8AIxeDP+w1J/6b7yukrm/FH/IxeDP+w1J/6b7ygDpKKKKACud8b6Pqmu6DDZ6HLFBcLfW05mkm8sxrFKshKZjkBb5AAGXHOT0weirJ8ReII/Denw3k9ld3iS3MVsEtFVnDSMEU4ZlyNxUcZPPTGSADEf4cWciyBtZ1X97bSwSHMGXeSbznmP7r75fnA+QAABQOKu6v4NGuW4h1HXtWdUDGIoYEMUhA2yqViGHQglT2LE+mOd1Xx/fW082o6bZ3s8KWEitpUywq0NxHdCFmLbhnBJBxIVIUFeuT1WqeJ00i4sorvTL7/TYpGR1MW1ZEiaUwnMn3yqNjGV4POOaAM1vAG++a7fxNrLTtdw3jMVteZIovKBwIMYZeo9RxiqUfwstorWOBPE2ubI4baAHFpnbbzGaL/lh2dj9R1zUsPiW9g1y+t77+0XVtUggtoI0tt0G+1WUxOehUtuGQWOSPmxzSWHxR03UGttuj6xAlwLZhJPDGqpHPKYUdj5nA80FMdT95QyfNQB29FFFABXN33/JU9C/7Aupf+j7Gukrm77/kqehf9gXUv/R9jQB0lFFFABRRRQAUUUUAFFFFABRRRQAUUUUAFFFFABRRRQAUUUUAFFFFABRRRQAUUUUAFc34o/5GLwZ/2GpP/TfeV0lc34uh1D7X4dv9N0y41P8As7U2nngtpIkk2NaXEWR5ropw0q8ZzigDpKK5v/hKNX/6ETxB/wB/9P8A/kqj/hKNX/6ETxB/3/0//wCSqAOkrB8YeHZ/FGiR6db3wsQLuC4kk2OWKxyB9qlJEZCSo+YNkDOOcEQ/8JRq/wD0IniD/v8A6f8A/JVH/CUav/0IniD/AL/6f/8AJVAA3w/8OMpU2tzg2z2zD+0Lj5keQyMT8/LlyWMh+cnndmrFz4cE89nGJ1fT4bhbqSG6ElxK0qFTGUleQ+WAVBI2nPPTJzX/AOEo1f8A6ETxB/3/ANP/APkqs/X/ABzrGj+G9T1MeB9aQ2VpLcbp57Ly12IWy2y5LbeOdoJx0BNAGnc+BtDu9Smvpo777RNdR3bsmp3KDzUUqrBVkAGFOMAAEYyOBVNPhh4WSFYkt9QCJHFGoGsXnCxyGSMf63+FySPTtVn/AISjV/8AoRPEH/f/AE//AOSqP+Eo1f8A6ETxB/3/ANP/APkqgDpKK5v/AISjV/8AoRPEH/f/AE//AOSqP+Eo1f8A6ETxB/3/ANP/APkqgDpK5u+/5KnoX/YF1L/0fY0f8JRq/wD0IniD/v8A6f8A/JVVrKTVdX8fafqVz4d1DSbSz0y8gaS9ltm3vLLbMoURTOekL5JAHT1oA62iiigAooooAKKKKACiiigAooooAKKKKACiiigAooooAKKKKACiiigAooooAKKKKACiiigAooooAKKKKACub+I//JLPFf8A2Bbz/wBEPXSVw/xj1630D4T69JdwXEqXlnNZK0CBhG8sbIjPkjC7iBnnqKAO4orK8M+ILbxV4bs9bsILiC1vE8yJblAjlckA4BPBxkexFatABRRRQAUUUUAFFFFABRRRQAUUUUAFFFFABRRRQAUUUUAFFFFABRRRQAUUUUAFFFFABRRRQAUUUUAFcbpV34x16C6vLPVtDs7dNQvLWKGXR5pnVYbmSEFnF0oJIjycKOtdlXN+A/8AkXbr/sNar/6cLigA+w+N/wDoYfD/AP4IZ/8A5Mo+w+N/+hh8P/8Aghn/APkyukooA5v7D43/AOhh8P8A/ghn/wDkyj7D43/6GHw//wCCGf8A+TKveJNfHhvSlvn0+71BWnig8q0MW8NI4RT+8dBjcyjr/F6ZIdoOux67a3DraXNlNa3DW1xbXWzfE4AbBKMynhlOVY9cdQQADP8AsPjf/oYfD/8A4IZ//kyqGt+GPFXiHQ7zSNV1zw/NZ3kTRSp/YU4yD3B+2cEdQexFdnRQBy1tpHjKztYra113w7FBCgjjjXQJgEUDAA/0zoAKl+w+N/8AoYfD/wD4IZ//AJMrpKxdV8V6ZpXh2TWpHkuLOJ2VmgXccIxEjDOMqoV2J/uoSM8ZAKv2Hxv/ANDD4f8A/BDP/wDJlH2Hxv8A9DD4f/8ABDP/APJldICGUFTkHkEd6itbqG8tkuLZ98UgyrYIz+dAGB9h8b/9DD4f/wDBDP8A/JlH2Hxv/wBDD4f/APBDP/8AJldJRQBxPiO58b+H/Cuq6z/bfh+4/s6ymu/J/sSdPM8tC+3d9rOM4xnBrtq5v4j/APJLPFf/AGBbz/0Q9dJQAUUUUAFFFFABRRRQAUUUUAFFFFABRRRQAUUUUAFFFFABRRRQAUUUUAFFFFABXN+A/wDkXbr/ALDWq/8ApwuK6Sub8B/8i7df9hrVf/ThcUAdJRRRQBznjvRb7xD4XbTNOtLC7MtzbvNDqEzRxPHHKsjKcRvnds24Ixhie2DD4a8OXuiaLceG5o7P+xY0eOxlik3SrG+T5bxtHsOzcVDEtuAG5c5zqxeKNAnx5GuabJl5Ixsu4z80a7pF4PVV5YdhyaSPxT4flhsZotd014tRkMVk63kZW6cHaVjOfnIPGBnnigDE8MfDnS/COqSajpsnmzNC0W3+zrC3yCQfvQW8bfwjgtj26Y5C60cPYazZWHh+SyhkMy6Y0GnoHhmnCGaBiVIAZkI8wAxlHw2doB29Q+LVh5llLoVx4fuNPunuYft2o62LSNJYXAZMiKQfMGVl5yVOcAYz22i6i2r6HZ6g9rLaNcxLIYJR80ZI6H/Gpkm9mbUp043543+djx3SdEvdPbTheeE31OC2cJHFczlDp0/nmUi3aK3RRvBAYBEiIRVLlSRVnTtN1K30qDQ00O40XTIJrlvO0mKMyT3EhZViaOW3KAeWxUuCV6APgc+sLrdgNAi1q7uI7KxkgScy3TrGsasARuJOB1HeoJ/Ffh22hea517S4YozGHeS8jVVMi7o8knjcvI9RyKnln3NvbYf/AJ9fizA8GpqWr+C00TxRaXdrNZxR28txb3s0TyFMdJFEb7vlG4r8pzwzAkDZ8K+GovDWli3Sa7lkYDzDPfz3KggnG0SsdvXnaBnv0o1rxp4d8Pw37anrFlHLp8Hn3Ft9oTzkU4C/ITkbiygZwCWHrWbJ40vb17+48L6Kmt6bp+EluIr0K88hjD4gTaRIoDplty9TtDkYNq6WpzVJRlK8VZHXUUUUyDm/iP8A8ks8V/8AYFvP/RD10lc38R/+SWeK/wDsC3n/AKIeukoAKKKKACiiigAooooAKKKKACiiigAooooAKKKKACiiigAooooAKKKKACiiigArm/Af/Iu3X/Ya1X/04XFdJXn/AIT8a+FdI0u+sdV8S6PY3cWtap5lvc38UciZv5yMqzAjIIP0NAHoFIwJUhTtOODjOK5z/hY/gj/ocvD/AP4NIP8A4qj/AIWP4I/6HLw//wCDSD/4qgDDvPCXiW/g1aC4ubQQanuieOKSRPL3LGrTqRyCTGD5fYs3z81naf4B8UaXO8ttNokvnTeXOl9Hc3Yki8zeJsyyswkyBxuK5GfTHW/8LH8Ef9Dl4f8A/BpB/wDFUf8ACx/BH/Q5eH//AAaQf/FVn7PzZ2fWv+ncfuOYsPCHjjTrq1nt9S0Qta3l35e+1lP7m5l813OJB84boOmOua3PDfg0WnhVPDviK00/UdMtQEhglhWVZSGLeYVZdq8nhAPlA6mrf/Cx/BH/AEOXh/8A8GkH/wAVR/wsfwR/0OXh/wD8GkH/AMVTULO92RPEc8eXkivRBYeEbTw74TOmeHLDTYJTEiT7bVYUvCFCtv2cgsMjdyRnvXK6j4B8S6podpY32oW88trEXWY3NxH5jGIReS4idGKkAEsGAOT8nNdV/wALH8Ef9Dl4f/8ABpB/8VR/wsfwR/0OXh//AMGkH/xVDjd7ip1/Zxtyp+qOTm8BeKn0m90yOfQlt7m2maOR7WR5oJZAA0SyF87PlHzHJOBnoKv2Hhzx1p93qMltqmlQx6mPtc6xW7bo7kqqssRYsFBCg5YOM87eoO7/AMLH8Ef9Dl4f/wDBpB/8VR/wsfwR/wBDl4f/APBpB/8AFUvZ+bNPrX/TuP3HRqSVBYbTjkZzilrm/wDhY/gj/ocvD/8A4NIP/iqP+Fj+CP8AocvD/wD4NIP/AIqtDjD4j/8AJLPFf/YFvP8A0Q9dJXnfj7x94PvPht4ltbPxZoc9xNpN1HFFFqULPIxhYBVAbJJJwAK9EoAKKKKACiiigAooooAKKKKACiiigAooooAKKKKACiiigAooooAKKKKACiiigAooooAKKKKACiiigAooooA5v4cf8ks8Kf8AYFs//RCV0lc38OP+SWeFP+wLZ/8AohK6SgAooooAKKKKACiiigAooooAKKKKACiiigAooooAKKKKACiiigAooooAKKKKACiiigAooooAKK4bw74ftvE2jLrup32tNJqU0tzCINbvII1gaRjCFSOVVH7vZ0HJya1f+ED0j/n88Qf+FHqH/wAfoA6Siub/AOED0j/n88Qf+FHqH/x+j/hA9I/5/PEH/hR6h/8AH6AOkorm/wDhA9I/5/PEH/hR6h/8fo/4QPSP+fzxB/4Ueof/AB+gDpKK5v8A4QPSP+fzxB/4Ueof/H6P+ED0j/n88Qf+FHqH/wAfoA6SsjxVpd7rPhXULDSr+bTr6aEi2uoJCjRyDlTkc4yAD7E1S/4QPSP+fzxB/wCFHqH/AMfo/wCED0j/AJ/PEH/hR6h/8foAzfhF4d1jwz8NdNsfEd1cT6gUDPFNIW+yrgBIV9AqgDA75rtq5v8A4QPSP+fzxB/4Ueof/H6P+ED0j/n88Qf+FHqH/wAfoA6Siub/AOED0j/n88Qf+FHqH/x+j/hA9I/5/PEH/hR6h/8AH6AOkorm/wDhA9I/5/PEH/hR6h/8fo/4QPSP+fzxB/4Ueof/AB+gDpKK5v8A4QPSP+fzxB/4Ueof/H6P+ED0j/n88Qf+FHqH/wAfoA6Siub/AOED0j/n88Qf+FHqH/x+j/hA9I/5/PEH/hR6h/8AH6AOkoriE0KDTfiHo1tpl9rGI7a4u7pLjWbu4jdQFjRWSWRl5aQsOOsddvQAUUUUAFFFFABRRRQAUUUUAFFFFABRRRQAUUUUAFYXjW8msfBepPaNtupovs1sfSaUiKP/AMfda3a5vxJ/pviPw3pI5Vrp7+ZfWOBOPylkhP4UAbEMVtoehpFGrra2FuFVY4y7BEXGAqgknA6AEntXMXHxCsL6xs7rwzdpcK13ZiZZrOZWe3nfYHjB2k55wwDDKMuM5x1GqwXFzo93DYvsuZIXWFi+0B8fLk7WwM452n6GvP8ARvhjrMOj6XDqviSRbm2jt45zbxo4VLYubdI2KLgKXySV3MQMnHWZSa2VzelShNXlNR9b/omdXpHjHT9U8JHxDIlxZ2alwVnt5FfhtoAQqGYtwAFByTtGTUMnxC8NxQySy3dyixW8lzJu0+4BSON0STI2ZBRpEDL95c5IABNZUHw/1RdHh0u58TzvZiXznjS2jXy3SYTRNEcZUqyj7xbP15rFsfhZ4gvVlHiXxIcyteQzm0CMbiC4KM2cxKIyWjUkAHhRgjJFTzy/lf4f5mv1en/z9j/5N/8AInaxeLtOGrzWMtzNLK17JaRJFplwPLdIVkaN32lSxBZw3yhlIAB2kmObx/4dt/M8+5uo/LgM77tOuBtUIJCp/d8SBCHMf3wvJXHNZMfw+1F4pVvvEcs0l3d/bLmZLdEdZQnlq0WOFygCMCGyM9Mk1SuvhOL/AFqTVbjUreG6vEdL6S20yAOymIQgRSOrPGNgwQGwcnpmjnl/K/w/zD6vT/5+x/8AJv8A5E7B/E2nrocOrLHqEtpO22PydMuZJD158pYy4X5ThiuCCDnBGWt4r0yPw9c63MmoQ2NqT5xm0u5jlUDGW8poxIVGclgpAAJzwcQWnhWG60CLTfF/2XxF5ZU4vLOMxgqu0MEIIBxkk+rHGBwJn8L6fa+H7jSvD9pZ6PDMSxjtbVEidiADvRQAQwGD0OO44q7u17HO4RU+XmVu+tvyv+AzUfGeiaSrtqM11AI2IctYT/KoQOznCf6tQw3SfdUnDEHiqGsfEbQtKivdjXN3PZttaKCzmbefNETbGCEOEc7W252t8pweKxL34Ttqem2lpqerR37WcL+TPe2ENw4mYKCSJFZWX5F6qW4xuxxViX4d6s9jPYR+LLmGxmV5vssdrFsjuWl83epKlggc5CZwKjnl/K/w/wAzo+r0/wDn7H/yb/5E3LzxJcW/ivTbRIFOmXWIZpnRleOd0Z4wc42jEZBBGcyJ077Op6lbaPpdxqF+ZFtrdN8rRQvKwXudqAscew6c1w1/8LpNTuTfXmqwyarmO4j1Q6bB9qiuExs2vt4iBUHZjPXJwSD0lnpOtnQLi11PVlmvXmLRz+WrJt4wrLtUFTg5XqA2NxxupqTfT8iJUacbWqJ/+BffsLfeNNF02F5b2S8iRNuT/Z1weDH5m4AJyqqcsw4Q8MQeKo618R9B0e31ApJcXlxZRNIIoLWZlm2lVYJIEKvtaRA5Utsz82DxWLd/Cj7fo1pp19qsd4lnFmCW8sYrh1m2BMnzQysm1V4YFuPvVM/w41U6ZdaZF4suYNPuYpGa0itIQiXDsXZ1+XITcSdmcc0ueX8r/D/Mv6vT/wCfsf8Ayb/5EpP4/wBbg8U3trJNZvaQarb2kUL6NdW++KZIZAXu3k8qORVnPyMoZigAUF1A9A1fVrTQtJn1LUjMtrbrulaG3kmZV7nailsDqTjgZJ4FcZL8N9TuZLr7Z4rubiC9eO7urdraJUnu4xGFdiqhvLxFGNgI4Xr1rpJNI1K/8OXljqV8rT3Eku1tqunlFjtjYBV3KV4IwDg43EjeWpN9DOdKEWkpp39dPvX5XEv/ABnoulsw1Ca6gKuVbdYz/KAFLSH5OI1Druk+4pYAkHiqGr/EfQtLhuvLa6vJrWVI2igs5m35lETFGCEOFY4YpnDfKfmIBxL74TtqtjZwarq8eoSWUEghuL3T4bhxM+zcxEilCpManld3bdgkVal+HmrSWEthH4suYbGQGdbZLWIrFcmXzd6llLbA/IQk9AOlLnl/K/w/zNPq9P8A5+x/8m/+RLdlr/iTXZbu/wBBh046bbX7WS2tzHIs8ojk2Sy79wCYIcBChztBLDOB2VcLa+AtZs7q5e18W3cUN0xupraOFFR7osCzggBlQkcorDOSc5JJ7aSZbe1ea5dUSNC8jdgAMk/SqjJvdWMatOMLcs1L0v8Aqkc/oX+neMvEepHlYWg02I+ojTzGI/4HOyn/AHPaukrnvAkMieDLK5uFKT6hv1CZT1V53MpU/Tft/CuhqjEKKKKACiiigAooooAKKKKACiiigAooooAKKKKACub0/wD0/wCIur3fWPTbWGwj/wBmR8zS/mrW/wCVdJXN+BP9I8OPqp5bWLqa/DesbufK/wDIQjH4UAdJRRRQAUUUUAFFFFABRRRQAUUUUAFFFFABRRRQAUUUUAFFFFABXOePHZ/CFzYRMRLqkkenIQeR57iNiPojM3/Aa6Oub1j/AE/x14fsOqWiz6lJ7FVEMYP189yP9z2oA6NEWONURQqqMKAOAKWiigAooooAKKKKACiiigAooooAKKKKACiiigAooooAqaraTX+jXtna3P2We4t3ijuNm/ymZSA23IzgnOMjp1rnrHRfGOnafbWVrr/h9YLaJYY1/sGbhVAAH/H56CusooA5v7D43/6GHw//AOCGf/5Mo+w+N/8AoYfD/wD4IZ//AJMrpKKAOb+w+N/+hh8P/wDghn/+TKPsPjf/AKGHw/8A+CGf/wCTK6SigDm/sPjf/oYfD/8A4IZ//kyj7D43/wChh8P/APghn/8AkyukooA5v7D43/6GHw//AOCGf/5Mo+w+N/8AoYfD/wD4IZ//AJMrpKKAOb+w+N/+hh8P/wDghn/+TKPsPjf/AKGHw/8A+CGf/wCTK6SigDifDlz438QeFdK1n+2/D9v/AGjZQ3fk/wBiTv5fmIH27vtYzjOM4FaX2Hxv/wBDD4f/APBDP/8AJlHw4/5JZ4U/7Atn/wCiErpKAOb+w+N/+hh8P/8Aghn/APkyj7D43/6GHw//AOCGf/5MrpKKAOb+w+N/+hh8P/8Aghn/APkyj7D43/6GHw//AOCGf/5MrpKKAOb+w+N/+hh8P/8Aghn/APkyj7D43/6GHw//AOCGf/5MrpKKAOb+w+N/+hh8P/8Aghn/APkyptE0PUrTWb3Vtd1G1v7y5git0+yWbW6RRxl2xtaWQkkyHJyOg44reooAKKKKACiiigAooooAKKKKACiiigAooooAKKKKACiiigAooooAKKKKACiiigAorjdE8R+Mde0DT9Xs/Dehpb6hax3USy67MHVXUMAwFoRnB5wTV77d43/6F7w//wCD6f8A+Q6AOkorm/t3jf8A6F7w/wD+D6f/AOQ6Pt3jf/oXvD//AIPp/wD5DoA6SszxJr1v4Y8OXmtXsFxPbWUfmypbIHcLnkgEjgDk89Aazvt3jf8A6F7w/wD+D6f/AOQ6jnuPGdzbyQXHhrw7JFKpR0bXZiGUjBBH2PpigDO+DfiC28Q/CnQ3s4LiNLGzhsXadAokeKNVcpycruBGeOhrua4vQrLxT4c0K00fSPC/h+Czs4xHEn9vznA9SfsfJJySe5NaH27xv/0L3h//AMH0/wD8h0AdJRXN/bvG/wD0L3h//wAH0/8A8h0fbvG//QveH/8AwfT/APyHQB0lFc39u8b/APQveH//AAfT/wDyHVHW/EfjHQdA1DV7zw3ob2+n2sl1KsWuzF2VFLEKDaAZwOMkUAdlRRRQAUUUUAFFFFABRRRQAUUUUAFFFFABRRRQAUUUUAFFFFABRRRQAUUUUAFFFFABRRRQBzfw4/5JZ4U/7Atn/wCiErpK5v4cf8ks8Kf9gWz/APRCV0lABVe/u/sGm3N4YZJxbxNL5UW3e+0E7V3EDJxgZIHqRVivEfsN7H4w13ULPwo1osWoXcpvSkqyTeZbmERlRGf3Tykybk35KhivIaplJR3NaVGpVdoK/wDX9fOy3Z6/pes2erwq9m5LGCKdo2HzRrIu5Q3bOO2av15N4VF94Z1Se7n8JLDNNaWkF9cwqTLAUQIeViPmhsBhtJ54bbjNc1aaZq9nI1rd+E/JvLNNPumukjkeO4ube6EjzyusR2zSrhSU81sNySFYCfaQ7m/1HEfy/iv8/wCrrur+9GVxdJEIJCjIzGYFdikEAKed2TkkYBHynJHGZK8LsvDt1JDLYeIfCUFvY/YLy1naCIzm1M9yZ4MR+VtcISMbC20kkhe8/ijRdR1q30+4bRLiyvYXlm1WK1hjiSKeTy/LmSQ28xd1WPaGRN4B5ZOQT2kO4fUcR/L+K/z/AKuu6v7bRXBfDi0bTZ9Vhn8NJpN5dXs1zNJEowImcvEjPtUMRvfCruC8kkFiK72rUlJXRz1KcqUuWe4VzfxH/wCSWeK/+wLef+iHrpK5v4j/APJLPFf/AGBbz/0Q9MzOkooooAKKKKACiiigAooooAKKKKACiiigAooooAKKKKACiiigAooooAKKKKACiiigAooooA5v4cf8ks8Kf9gWz/8ARCV0lc38OP8AklnhT/sC2f8A6ISukoAKoa7q0eg6BfatPbzXEVjA08kcG3eUUZbG4gcAE9R0q/WR4q0WbxF4Xv8ASLe9Ni15C0JmCb8KwwwI91JHtnNJ7FRSckm7HNah43uZNR0ySws9StzHdTRXWmzxwq90n2OWeMgkkLkouPmUjkMB0GivjcWfw5sPFGs6dPD9ohheWBZIU2F8DcXeQRqhzkFnHBAPzcVkQfC+WBrV/wC3bmSW1kN0ksskrs1wYxGQ5ZyXi2DaFbLAEgMATmOf4Y6oNIttN0/xTcW9vAYnAka4kZPL3YjjYTK0aYcjIO/AALEAARzy/lf4f5nV9Xp/8/Y/+Tf/ACJdX4lQ3mmSTw6BrsUZ0o6n5yfZCY4CJNrjMxUk+XkDnO5c8Zw+XxXPdeMvD9jpjXws2upba7meKLyblhavLtz98OpVDwFU5YfNggUR8L7l1uPtPiO9ne6sjaTNJcTsXTcW8olpSfL5POfM5Pz4JFOtvhc9pqVtfwa1cLc2pWeJi8rATiPy+VL4ZCnDEgyN/E5o55fyv8P8w+r0/wDn7H/yb/5E9CopF3bRvxuxzjpmlrQ4wrm/iP8A8ks8V/8AYFvP/RD10lc38R/+SWeK/wDsC3n/AKIegDpKKKKACiiigAooooAKKKKACiiigAooooAKKKKACiiigAooooAKKKKACiiigAooooAKKKKAOb+HH/JLPCn/AGBbP/0QldJXN/Dj/klnhT/sC2f/AKISukoAK5bxV4sv9A1G3tdP0q1v/NtJ7lnmv/s/liLaSD+7bqG4PrgEAZYdTXNa54D0bxF4k0/WdVjaZ7FHQW7RxmKXcCMvlCxxnIwwx+eU720NKapuX7xtLyV/1RzEHibV4PGCx6YVlsdR8QRxSpqF24aGJ9LE+1AVcKNys2AQNwC9HLLp+N/E00EesaILea1X+yZp4dRjnmhPmiN2CI6pt3/KCF8wMQHOMAbtMfDzwxuiMmlpMUkaVjMzP5rnPzSZPzkbmwWzjJxUUXwz8IRG1I0S3c2qNGhky2VIA2tn7wAAwD0wMdKi9Tsvv/4B0cmE/nl/4Cv/AJIy7bx/qLIumpo9qNZWQxiC71Py0dBbxzbjKI2/eYlUFACMhvnIGSg+J0nm28kulQQWVwLGYSzXjCRILoHZIyCIhSHG0jdgcHPIzrQfDTwlbwW8EejQGK3JKxtllc4IBYH720MQM5wCcYqc+AvDjTJLNp4nkVWR3nkaQzKSDiQk/OAQMbs4wMdKL1Oy+/8A4AcmE/nl/wCAr/5I19Ku7i90u2nvreO1upIleW3jlMgiJGdu4qpP5CrlUtM0m00i2aGyRgHbe7yOXdz0yzMSTwAOewAq7Vq9tTlmoqT5Hdf16hXN/Ef/AJJZ4r/7At5/6Ieukrm/iP8A8ks8V/8AYFvP/RD0yTpKKKKACiiigAooooAKKKKACiiigAooooAKKKKACiiigAooooAKKKKACiiigAooooAKKKKAON0Tw54x0HQNP0iz8SaG9vp9rHaxNLoUxdlRQoLEXYGcDnAFXvsPjf8A6GHw/wD+CGf/AOTK6SigDm/sPjf/AKGHw/8A+CGf/wCTKPsPjf8A6GHw/wD+CGf/AOTK6SigDm/sPjf/AKGHw/8A+CGf/wCTKPsPjf8A6GHw/wD+CGf/AOTK6SigDhvC8/jnXfCGj6s2vaDG1/YwXJRtDmYqXjVsEi6AJ56gD6DpWr9h8b/9DD4f/wDBDP8A/JlHw4/5JZ4U/wCwLZ/+iErpKAOb+w+N/wDoYfD/AP4IZ/8A5Mo+w+N/+hh8P/8Aghn/APkyukooA5v7D43/AOhh8P8A/ghn/wDkyqOt+HPGOvaBqGkXniTQ0t9QtZLWVotCmDqrqVJUm7Izg8ZBrsqKACiiigAooooAKKKKACiiigAooooAKKKKACiiigAooooAKKKKACiiigAooooAKKKKACiiud1zUdYfxFY6L4euLG2mltprq4nvLV7hURGRVUKskfLFzznoh4oA6Kiub+w+N/8AoYfD/wD4IZ//AJMo+w+N/wDoYfD/AP4IZ/8A5MoA6SiuYltPHMcLumu6DKyqSI00GXc59Bm9AyfcgVzS+MfER+H8/i5tb0uOzt0ZpbdvDsvnqVbbsK/btuScY+bBBBzg5oA9MrJ8U6zceHvC2oavaae2pSWUJmNqkmxpFXlsHB5C5OMc4xWZbW3jqe1ill1rQ7Z5EDNDLoUpeMkZKttvSuR0OCR6E1IbDxsykN4g8PkHgg6DNz/5OUAY/wAFdcn174S6JNPpzWMdrbR2cJeTcbhYkWMy4wMAsrYHPSu9riLe08UaFBbabFrHh6wtIzHbWYGgShHJBwiAXpPAXnIH481p/YfG/wD0MPh//wAEM/8A8mUAdJRXFaFd+M9f0hL+DWdGtg0ssTQ3Ggyb0eORo2B23rL95D0JrR+w+N/+hh8P/wDghn/+TKAOkorm/sPjf/oYfD//AIIZ/wD5Mo+w+N/+hh8P/wDghn/+TKAOkorm/sPjf/oYfD//AIIZ/wD5Mo8M6hrlzrmtWOtXWn3kentDEk1lZvb/ALxk8x1YNLJnCtEQQR940AdJRRRQAUUUUAFFFFABRRRQAUUUUAFFFFABRRRQAUUUUAFFFFABRRRQAUUUUAFc3oX+neMvEepHlYWg02I+ojTzGI/4HOyn/c9q6GaaO3gkmmYJHGpd2PRQBkmsHwJDIngyyubhSk+ob9QmU9VedzKVP037fwoA6GiiigBkpkELmBVeUKdiu21SewJAOB74P0rzS68BeI5vCl1YQjS45bzTRBLbfa5PKF0sf2cTCTyskGHBK7M7kUZx81enUUAeS+JPCXiN9b1bxHcaTogjuNMmtJYtPaR5phJCow+y282UiRdud2Nm0iMMpDZGk/DubV9DgFn4X0qMQz3ZmbUDJamcyQBF/dixh+UNtJHlhfkUjcenrGveJ7Lw9dabb3qOz6lOLeDa8aguSAB87LkksAFXLdTjAYjnLHxy+l6TcnVYr/V5ba7v2mlto4d1vawXLxiR1ymQFAGEDMcHg0AZb/DrU765E+saN4duytzZTsktw0omMcJil3FoOp4IODnaAdvaC0+HOv2yyQfYNANolrbW3k/aZNt8kE7OEmHkYVWRyMfOBsAwwY46WT4m6VbSXZv9P1KztbWSaFr2aOPyXkijMpVSHJOY1Lg4A7EhvlrX8KeK9P8AGOjtqOlEiOOZoJEMsUmx1wcbondDwQcqx6+uRQBwEPww10TaE8zWSrpt1LKIra8Ci3DXZnDRvJau2SrBGVTHkIAWYH5fWqKKACiiigArm/An+keHH1U8trF1NfhvWN3Plf8AkIRj8Kn8a3k1j4L1J7Rtt1NF9mtj6TSkRR/+Puta1jZw6dp1tZWq7YLaJYY19FUAAfkKAJ6KKKACiiigAooooAKKKKACiiigAooooAKKKKACiiigAooooAKKKKACiiigDnPHjs/hC5sImIl1SSPTkIPI89xGxH0Rmb/gNdEiLHGqIoVVGFAHAFc5rH+n+OvD9h1S0WfUpPYqohjB+vnuR/ue1dJQAUUUUAFFFFAGdq+hWOuJEmo/aWjiYny4byWFHzjh1RgJF4+62R145NZX/Cu/DRABs7hv3kzsWv7gmTzWDSo5L5eN2UExtlCckryaTxl4vfwobEx2tteC4kxLEbiRZlTcil0RIn3KN3LMUUEqC3zCskfEXUVnvY7jw/DH5Ed8YCuobvPktZUjIx5eQreYuDy2QwCH5SwBf07wBapqur3+uTDU31CeV44v3yRQRyIEKiMysm/aMGRVViCR0OK6LS9Lt9Is/s1pJdyR7i2bu8luXyf9uVmbHHTOK4STxdqTnSdf1nTbjSorc35azhnn/wBIhjgLbmiljiOcp8oZMjqCNxrp/B/iO68S6ZPcX2kz6XLDN5YSWOZVlXYrB0M0UTEfMV5QcqcZGCQDoKKKKACiiigDm/En+m+I/DekjlWunv5l9Y4E4/KWSE/hXSVzen/6f8RdXu+sem2sNhH/ALMj5ml/NWt/yrpKACiiigAooooAKKKKACiiigAooooAKKKKACiiigAooooAKKKKACiiigAooooA42S51jTfHWr3/wDwi2qalDLBb21rPaTWgUxoGduJJ0YHfKwPH8Iq9/wlGr/9CJ4g/wC/+n//ACVXSUUAc3/wlGr/APQieIP+/wDp/wD8lUf8JRq//QieIP8Av/p//wAlV0lFAHN/8JRq/wD0IniD/v8A6f8A/JVH/CUav/0IniD/AL/6f/8AJVdJRQBxOrSxa80Ta78K9Q1IwhhEbxNMm8sNjdjdcnGcDOOuKytQ0PTryymhtvhVqGnTTbj9qtLfRxKpbG/70zKdwG1gwIYEg5r0uigDyvwdb6ZbaFp1/pXw61bUIpf9Osr2a20iJ1EqL8yLHLGI8oFzhQTjnmuh0m8Og2z2+h/DHU9Ngd97xWY02FWbAG4hbkAnAAz7Vf8Ahx/ySzwp/wBgWz/9EJXSUAc3/wAJRq//AEIniD/v/p//AMlUf8JRq/8A0IniD/v/AKf/APJVdJRQBzf/AAlGr/8AQieIP+/+n/8AyVR/wlGr/wDQieIP+/8Ap/8A8lV0lFAGD4Qsbu10m4uNUtmtb7UL2e7mhdlZowzkRqSpKkiNY1OCRxW9RRQAUUUUAFFFFABRRRQAUUUUAFFFFABRRRQAUUUUAFFFFABRRRQAUUUUAFFFFABRRRQAUUUUAFFFY+q+LNB0WcW+o6pbx3Tcrao3mTt9Ily5/AUAbFQXl9aadaPdahdQ2tumN808gRFycDJPA5OKwB4vubn/AJBXhXXbsHo8sEdqv4+e6N/46T7VR15PEPibw/faPe+ErT7LfQtDIJ9WCkAjr8sTYIPIPqBQBY+F99aXvwt8NCyuobgwaVaQzCKQP5biFMq2OjD0PNdZXm3gDw/4k+H3g2z0G18Oadc+Tl5riLViDPIxyzkNCMdgBk4AAzXSf8JPq9t/yEfB+qoveS0lguFH4CQP+S0AdLRXPW3jrw9PcrbXF8dNumOFt9Tie0kY+iiULu/4DmuhByMjkUAFFFFABRRRQAUUUUAFFFFABRRRQAUUUUAFFFFABRRRQAUUUUAFFFFABRRRQAUUUUAFFFFABRRRQAVna1rlnoVqkt35kkkz+Vb20Cb5biTGQiKOpwCfQAEkgAmr8sqQwvLKwSNFLMxPAA6muZ8J2j6of+Es1RCbzUEzZxv/AMudq2CiKOzMAGc9Sxx0UYAGrpGu+Iv3viG9l0myb7ul6dNtcr/01uB82f8AZjKgdNzda29K0PS9Ct/I0fT7eyjPLCGMKXPqx6sfc81fooAKKR0EkbI2QGBB2sQfwI5FeR6DPqvh3Q7vxJdLNcw2tvevbrdeJbqb7aY3c7GjlDKjCONiNocnbyRzkA9dorzzUvHN9e6TqemnRxbairTQsi6mYtkS2sU5dZlUESBZ0G0YG4N8+BursPDcsk/hTSZp5GklksoWd3bLMSgJJJ6mgC9c2tve27QXkEdxC4w0cqBlb6g8Vzj+D5NKzL4M1B9IYcixcebZP7eUeYx/1zK+uDXUUUAYej+IzeXx0rV7NtM1dEMhtmfekyA4LwycB1yRngMMjcoyM7lZev6FBr2niF5HtrqFvNtLyL/WWsoHDqfxwQeGBIOQSKZ4Y1abWNDSW+jSK/gke2vI0+6s0bFXx/skjcPZhQBr0UUUAFFFFABRRRQAUUUUAFFFFABRRRQAUUUUAFFFFABRRRQAUUUUAFFFFABRRRQAUUUUAY3jG2uL3wLr1rZAm5n024jhA672iYL+pFXdIube90SxurHBtp7eOSHHTYVBX9CKuVyFlOfBF8NL1A7dBuZj/Z92T8toznP2eT0XcTsbpyEOCF3AHX0UUUAI6LJGySKHRgQysMgj0NYEPgHwdb+Z9n8J6HF5qGOTZpsK71PVTheRwOK6CigDE/4QrwqLcwDwzo/ktKkxj+wRbS6ghXxtxuAJAPUAmta0tLews4rWxt4ra2hUJFDCgRI1HQBRwB7CpaKACiiigArmvCPz6h4ouI/9RNrT+Uex2QQxP/5EjkH1zTvEOv3KXg0Hw2En1y4TcSwzHYxnjzpfb+6nVyMdAxGroukwaFottptoXaO3TBeQ5aRics7HuzMSxPqTQBeooooAKKKKACiiigAooooAKKKKACiiigAooooAKKKKACiiigAooooAKKKKACiiigAooooAKjuLeG7tpLe7hjnglUpJFIoZXU9QQeCKkooA5ZdB1nw7/wAindxXFiOmk6k7bU9ophlox/ssHA6DaKcPHVlZjb4ksNQ0Jx957u3LQD38+PdGB/vMD7CunooAp6fq+m6tF5ml6ha3seM7raZZBj6qTVysW/8ABvhrVJPN1DQNNnlzkSvapvB9Q2Mj86pn4feHv+WceoQ/9cNWuov/AEGQUAdNUc9xDawmW6mjhjHV5GCgfia53/hX+hMSZW1abPXz9cvZP/QpTUsHgLwpBMJv7AsZph0muYRPIP8Agb5P60ANl8e6AZWh0y5k1mdTgxaVC11g+jMgKp/wIiomXxV4gBVtnhmwbrgrPeuv1GY4j/38P0NdNFFHBEscKLHGowqoMAfhTqAKGj6Jp+g2ZttLtxErMXkcsXkmc9XdzlnY+pJNX6KKACiiigAooooAKKKKACiiigAooooAKKKKACiiigAooooAKKKKACiiigAooooAKKKKACiiigAooooAKKKKACiiigAooooAKKKKACiiigAooooAKKKKACiiigAooooAKKKKACiiigAooooAKKKKAP/Z)"
      ]
    },
    {
      "cell_type": "markdown",
      "metadata": {
        "id": "U5awcA2m3EMM"
      },
      "source": [
        "## Conclusion "
      ]
    },
    {
      "cell_type": "markdown",
      "metadata": {
        "id": "jgYmGa1m3I6V"
      },
      "source": [
        "In the entire laboratory report that we’ve done, I can conclude that using Python is also useful and helpful in visualizing and analyzing vectors by using NumPy in representing, describing , scaling, and implementing various operations such as addition and multiplication. It can also use MatPlotLib from graphing and visualizing these vectors that we want to input and also show its several dimension of the data. "
      ]
    }
  ]
}