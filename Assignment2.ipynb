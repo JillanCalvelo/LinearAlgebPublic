{
  "nbformat": 4,
  "nbformat_minor": 0,
  "metadata": {
    "colab": {
      "name": "Assignment2.ipynb",
      "provenance": [],
      "collapsed_sections": [],
      "authorship_tag": "ABX9TyMjtzwkoxRtydx1YGpA/8KS",
      "include_colab_link": true
    },
    "kernelspec": {
      "name": "python3",
      "display_name": "Python 3"
    },
    "language_info": {
      "name": "python"
    }
  },
  "cells": [
    {
      "cell_type": "markdown",
      "metadata": {
        "id": "view-in-github",
        "colab_type": "text"
      },
      "source": [
        "<a href=\"https://colab.research.google.com/github/JillanCalvelo/LinearAlgebPublic/blob/main/Assignment2.ipynb\" target=\"_parent\"><img src=\"https://colab.research.google.com/assets/colab-badge.svg\" alt=\"Open In Colab\"/></a>"
      ]
    },
    {
      "cell_type": "markdown",
      "metadata": {
        "id": "2Oc7T4AL1l2C"
      },
      "source": [
        "# Welcome to Python Fundamentals\n",
        "In this module we are going to establish our skills in Python programing. In this notebook we are going to cover:\n",
        "\n",
        "*   variables and data types\n",
        "*   operations\n",
        "*   Input and output operations\n",
        "*   logic control\n",
        "*   iterables\n",
        "*   functions"
      ]
    },
    {
      "cell_type": "markdown",
      "metadata": {
        "id": "EKcwDJAP2pFl"
      },
      "source": [
        "## Variabels and Data Types"
      ]
    },
    {
      "cell_type": "code",
      "metadata": {
        "id": "T8p8P3ie09FE"
      },
      "source": [
        "x = 1\n",
        "a, b = 3, -2\n"
      ],
      "execution_count": null,
      "outputs": []
    },
    {
      "cell_type": "code",
      "metadata": {
        "id": "KtWsJuVY3eLq"
      },
      "source": [
        "type (x)"
      ],
      "execution_count": null,
      "outputs": []
    },
    {
      "cell_type": "code",
      "metadata": {
        "id": "7cSr26LA3nio"
      },
      "source": [
        "y = 3.0\n",
        "type (y)"
      ],
      "execution_count": null,
      "outputs": []
    },
    {
      "cell_type": "code",
      "metadata": {
        "id": "yierlQ6F38Tv"
      },
      "source": [
        "x = float (x)\n",
        "type (x)\n",
        "x"
      ],
      "execution_count": null,
      "outputs": []
    },
    {
      "cell_type": "code",
      "metadata": {
        "id": "XPvKma0E4Nj3"
      },
      "source": [
        "s, t, u = \"1\", '3', 'three'\n",
        "type(u)"
      ],
      "execution_count": null,
      "outputs": []
    },
    {
      "cell_type": "markdown",
      "metadata": {
        "id": "SsDQkUAa4oKI"
      },
      "source": [
        "##Operations\n"
      ]
    },
    {
      "cell_type": "markdown",
      "metadata": {
        "id": "UIYrTqY6444Y"
      },
      "source": [
        "###Arithmetic"
      ]
    },
    {
      "cell_type": "code",
      "metadata": {
        "id": "cZc6Fah742zc"
      },
      "source": [
        "w, x, y, z = 4.0, -3.0, 2, -32"
      ],
      "execution_count": 83,
      "outputs": []
    },
    {
      "cell_type": "code",
      "metadata": {
        "colab": {
          "base_uri": "https://localhost:8080/",
          "height": 35
        },
        "id": "S3fJT0_m5EFC",
        "outputId": "4af24207-13e8-42ac-8093-65eeae8b34a0"
      },
      "source": [
        "### Addition\n",
        "S = w + x"
      ],
      "execution_count": 20,
      "outputs": [
        {
          "output_type": "execute_result",
          "data": {
            "application/vnd.google.colaboratory.intrinsic+json": {
              "type": "string"
            },
            "text/plain": [
              "'1'"
            ]
          },
          "metadata": {},
          "execution_count": 20
        }
      ]
    },
    {
      "cell_type": "code",
      "metadata": {
        "colab": {
          "base_uri": "https://localhost:8080/"
        },
        "id": "Ai-tI1Lg510-",
        "outputId": "5a84eedb-257f-4878-b9ee-74eba5b9b293"
      },
      "source": [
        "### Subtraction\n",
        "D = y - z"
      ],
      "execution_count": 24,
      "outputs": [
        {
          "output_type": "execute_result",
          "data": {
            "text/plain": [
              "33"
            ]
          },
          "metadata": {},
          "execution_count": 24
        }
      ]
    },
    {
      "cell_type": "code",
      "metadata": {
        "colab": {
          "base_uri": "https://localhost:8080/"
        },
        "id": "inzmSJL958hH",
        "outputId": "f70302ff-fddf-4cf7-9436-79a9e2449554"
      },
      "source": [
        "### Multiplication\n",
        "P = w*z"
      ],
      "execution_count": 28,
      "outputs": [
        {
          "output_type": "execute_result",
          "data": {
            "text/plain": [
              "-128.0"
            ]
          },
          "metadata": {},
          "execution_count": 28
        }
      ]
    },
    {
      "cell_type": "code",
      "metadata": {
        "colab": {
          "base_uri": "https://localhost:8080/"
        },
        "id": "G09zeICs6Ei1",
        "outputId": "894ec1fa-aa8b-406f-ab4d-38faa89d48e4"
      },
      "source": [
        "### Division\n",
        "Q = y/x"
      ],
      "execution_count": 27,
      "outputs": [
        {
          "output_type": "execute_result",
          "data": {
            "text/plain": [
              "-0.3333333333333333"
            ]
          },
          "metadata": {},
          "execution_count": 27
        }
      ]
    },
    {
      "cell_type": "code",
      "metadata": {
        "colab": {
          "base_uri": "https://localhost:8080/"
        },
        "id": "Z7tfYARt6WXS",
        "outputId": "183d84d9-e227-43d6-fc05-43d189c8e7ad"
      },
      "source": [
        "### Floor Division\n",
        "Qf = w//z"
      ],
      "execution_count": 34,
      "outputs": [
        {
          "output_type": "execute_result",
          "data": {
            "text/plain": [
              "-1.0"
            ]
          },
          "metadata": {},
          "execution_count": 34
        }
      ]
    },
    {
      "cell_type": "code",
      "metadata": {
        "colab": {
          "base_uri": "https://localhost:8080/"
        },
        "id": "K5SByu1z7EiD",
        "outputId": "f0fe8063-5786-4e10-aece-66d57cb95c74"
      },
      "source": [
        "### Exponnentiation\n",
        "E = w**w"
      ],
      "execution_count": 38,
      "outputs": [
        {
          "output_type": "execute_result",
          "data": {
            "text/plain": [
              "256.0"
            ]
          },
          "metadata": {},
          "execution_count": 38
        }
      ]
    },
    {
      "cell_type": "code",
      "metadata": {
        "colab": {
          "base_uri": "https://localhost:8080/"
        },
        "id": "XmfBTx_27YXZ",
        "outputId": "9bb1d356-03db-4e4b-be35-e81a4e6f336f"
      },
      "source": [
        "### Module\n",
        "mod = z%x"
      ],
      "execution_count": 40,
      "outputs": [
        {
          "output_type": "execute_result",
          "data": {
            "text/plain": [
              "-2.0"
            ]
          },
          "metadata": {},
          "execution_count": 40
        }
      ]
    },
    {
      "cell_type": "markdown",
      "metadata": {
        "id": "NruVZCVQ7yLK"
      },
      "source": [
        "### Assignment\n"
      ]
    },
    {
      "cell_type": "code",
      "metadata": {
        "id": "AWt2e6sn7y3c"
      },
      "source": [
        "A, B, C, D, E = 0, 100, 2, 1, 2"
      ],
      "execution_count": 43,
      "outputs": []
    },
    {
      "cell_type": "code",
      "metadata": {
        "id": "kEvs2S6H74yE"
      },
      "source": [
        "A += w"
      ],
      "execution_count": null,
      "outputs": []
    },
    {
      "cell_type": "code",
      "metadata": {
        "id": "ZnS2gznZ8P5f"
      },
      "source": [
        "B -= x"
      ],
      "execution_count": null,
      "outputs": []
    },
    {
      "cell_type": "code",
      "metadata": {
        "id": "hlRkA-_28a-d"
      },
      "source": [
        "C *= w"
      ],
      "execution_count": 64,
      "outputs": []
    },
    {
      "cell_type": "code",
      "metadata": {
        "id": "2FynBP7N885k"
      },
      "source": [
        "D /= x\n",
        "D"
      ],
      "execution_count": null,
      "outputs": []
    },
    {
      "cell_type": "code",
      "metadata": {
        "colab": {
          "base_uri": "https://localhost:8080/"
        },
        "id": "cNQ3vDDE9fEi",
        "outputId": "b06bbce4-a672-4130-91aa-03a8e29336ae"
      },
      "source": [
        "E **= y\n",
        "E\n"
      ],
      "execution_count": 89,
      "outputs": [
        {
          "output_type": "execute_result",
          "data": {
            "text/plain": [
              "4294967296.0"
            ]
          },
          "metadata": {},
          "execution_count": 89
        }
      ]
    },
    {
      "cell_type": "markdown",
      "metadata": {
        "id": "6SQytOCs-Si4"
      },
      "source": [
        "###Comparators"
      ]
    },
    {
      "cell_type": "code",
      "metadata": {
        "id": "5QQSWWIJ-V5d"
      },
      "source": [
        "size_1, size_2, size_3 = 1, 2.0, \"1\" \n",
        "true_size = 1.0"
      ],
      "execution_count": 93,
      "outputs": []
    },
    {
      "cell_type": "code",
      "metadata": {
        "colab": {
          "base_uri": "https://localhost:8080/"
        },
        "id": "fVI7yWpc-rG3",
        "outputId": "7abae963-c9ee-4da6-94b3-56a92f416717"
      },
      "source": [
        "## Equality\n",
        "size_1 == true_size"
      ],
      "execution_count": 94,
      "outputs": [
        {
          "output_type": "execute_result",
          "data": {
            "text/plain": [
              "True"
            ]
          },
          "metadata": {},
          "execution_count": 94
        }
      ]
    },
    {
      "cell_type": "code",
      "metadata": {
        "colab": {
          "base_uri": "https://localhost:8080/"
        },
        "id": "KOAkzl2x-2Lj",
        "outputId": "ab8466eb-777a-4769-c5a6-4d2886c8b03d"
      },
      "source": [
        "## Non-Equality\n",
        "size_2 != true_size"
      ],
      "execution_count": 95,
      "outputs": [
        {
          "output_type": "execute_result",
          "data": {
            "text/plain": [
              "True"
            ]
          },
          "metadata": {},
          "execution_count": 95
        }
      ]
    },
    {
      "cell_type": "code",
      "metadata": {
        "id": "mT39EFyK_A7j"
      },
      "source": [
        "## Inequality\n",
        "s1 = size_1 > size_2\n",
        "s2 = size_1 < size_2/2\n",
        "s3 = true_size >= size_1\n",
        "s4 = size_2 <= true_size\n"
      ],
      "execution_count": null,
      "outputs": []
    },
    {
      "cell_type": "markdown",
      "metadata": {
        "id": "qNNkXrZa_-be"
      },
      "source": [
        "###Logical"
      ]
    },
    {
      "cell_type": "code",
      "metadata": {
        "colab": {
          "base_uri": "https://localhost:8080/"
        },
        "id": "djsj2Dar___4",
        "outputId": "16d02b02-af26-4cc1-ef25-47f78a6b491f"
      },
      "source": [
        "size_1 == true_size"
      ],
      "execution_count": 104,
      "outputs": [
        {
          "output_type": "execute_result",
          "data": {
            "text/plain": [
              "True"
            ]
          },
          "metadata": {},
          "execution_count": 104
        }
      ]
    },
    {
      "cell_type": "code",
      "metadata": {
        "colab": {
          "base_uri": "https://localhost:8080/"
        },
        "id": "pOm7pkt8AHLU",
        "outputId": "f2d27a7a-ae70-4120-fb61-6024fc0dc6dd"
      },
      "source": [
        "size_1 is true_size"
      ],
      "execution_count": 105,
      "outputs": [
        {
          "output_type": "execute_result",
          "data": {
            "text/plain": [
              "False"
            ]
          },
          "metadata": {},
          "execution_count": 105
        }
      ]
    },
    {
      "cell_type": "code",
      "metadata": {
        "colab": {
          "base_uri": "https://localhost:8080/"
        },
        "id": "RY7Pgxx9ANN1",
        "outputId": "3af8f38e-4768-43fb-e084-c25f4f7c985e"
      },
      "source": [
        "size_1 is not true_size"
      ],
      "execution_count": 106,
      "outputs": [
        {
          "output_type": "execute_result",
          "data": {
            "text/plain": [
              "True"
            ]
          },
          "metadata": {},
          "execution_count": 106
        }
      ]
    },
    {
      "cell_type": "code",
      "metadata": {
        "colab": {
          "base_uri": "https://localhost:8080/"
        },
        "id": "rJJqc-ibAgcw",
        "outputId": "7d41af51-39a8-49b7-aa09-8a673af926f8"
      },
      "source": [
        "P, Q = True, False\n",
        "conj = P and Q\n",
        "conj"
      ],
      "execution_count": 113,
      "outputs": [
        {
          "output_type": "execute_result",
          "data": {
            "text/plain": [
              "False"
            ]
          },
          "metadata": {},
          "execution_count": 113
        }
      ]
    },
    {
      "cell_type": "code",
      "metadata": {
        "colab": {
          "base_uri": "https://localhost:8080/"
        },
        "id": "izeaRFRcA5Va",
        "outputId": "1142de90-c1c0-4bd4-d852-2bfe7e5dd68b"
      },
      "source": [
        "disj = P or Q\n",
        "disj"
      ],
      "execution_count": 115,
      "outputs": [
        {
          "output_type": "execute_result",
          "data": {
            "text/plain": [
              "True"
            ]
          },
          "metadata": {},
          "execution_count": 115
        }
      ]
    },
    {
      "cell_type": "code",
      "metadata": {
        "colab": {
          "base_uri": "https://localhost:8080/"
        },
        "id": "6MTuf8zbBIWC",
        "outputId": "0922fe49-07b9-437f-cf70-4de4a8460e3b"
      },
      "source": [
        "nand = not ( P and Q)\n",
        "nand"
      ],
      "execution_count": 116,
      "outputs": [
        {
          "output_type": "execute_result",
          "data": {
            "text/plain": [
              "True"
            ]
          },
          "metadata": {},
          "execution_count": 116
        }
      ]
    },
    {
      "cell_type": "code",
      "metadata": {
        "colab": {
          "base_uri": "https://localhost:8080/"
        },
        "id": "vfochQWCBhSO",
        "outputId": "eef7b665-2335-40b7-b68e-2a204894e6db"
      },
      "source": [
        "xor = (not P and Q) or (P and not Q)\n",
        "xor"
      ],
      "execution_count": 118,
      "outputs": [
        {
          "output_type": "execute_result",
          "data": {
            "text/plain": [
              "True"
            ]
          },
          "metadata": {},
          "execution_count": 118
        }
      ]
    },
    {
      "cell_type": "markdown",
      "metadata": {
        "id": "sbMQ2jR_BzV6"
      },
      "source": [
        "## Input and Output"
      ]
    },
    {
      "cell_type": "code",
      "metadata": {
        "colab": {
          "base_uri": "https://localhost:8080/"
        },
        "id": "_UZqYy2oB1k6",
        "outputId": "39953506-e318-4059-e5b1-dcad897dc936"
      },
      "source": [
        "print (\"Hello world!\")"
      ],
      "execution_count": 152,
      "outputs": [
        {
          "output_type": "stream",
          "name": "stdout",
          "text": [
            "Hello world!\n"
          ]
        }
      ]
    },
    {
      "cell_type": "code",
      "metadata": {
        "id": "dYKx5uqjCB7p"
      },
      "source": [
        "cnt = 14000"
      ],
      "execution_count": 124,
      "outputs": []
    },
    {
      "cell_type": "code",
      "metadata": {
        "colab": {
          "base_uri": "https://localhost:8080/"
        },
        "id": "DCyS5QSCCIvO",
        "outputId": "286f5471-d9d3-4cf8-de63-c60be31e0710"
      },
      "source": [
        "string = \"Hello world!\"\n",
        "print (string, \", Current run count is:\", cnt)\n",
        "cnt += 10000"
      ],
      "execution_count": 133,
      "outputs": [
        {
          "output_type": "stream",
          "name": "stdout",
          "text": [
            "Hello world! , Current run count is: 54000\n"
          ]
        }
      ]
    },
    {
      "cell_type": "code",
      "metadata": {
        "colab": {
          "base_uri": "https://localhost:8080/"
        },
        "id": "QKOnWmoTC4VO",
        "outputId": "12ef8a44-517b-49ed-c709-f69e36f65fe3"
      },
      "source": [
        "print (f\"{string}, Current count is: {cnt}\")"
      ],
      "execution_count": 134,
      "outputs": [
        {
          "output_type": "stream",
          "name": "stdout",
          "text": [
            "Hello world!, Current count is: 64000\n"
          ]
        }
      ]
    },
    {
      "cell_type": "code",
      "metadata": {
        "colab": {
          "base_uri": "https://localhost:8080/"
        },
        "id": "tTwe-FHVDxIU",
        "outputId": "467e3b0e-2238-4be6-dad2-0367a86ca276"
      },
      "source": [
        "sem_grade = 86.25\n",
        "name = \"Eugene\"\n",
        "print (\"Hello {}, your semestral grade is: {}\" .format(name, sem_grade))"
      ],
      "execution_count": 137,
      "outputs": [
        {
          "output_type": "stream",
          "name": "stdout",
          "text": [
            "Hello Eugene, your semestral grade is: 86.25\n"
          ]
        }
      ]
    },
    {
      "cell_type": "code",
      "metadata": {
        "colab": {
          "base_uri": "https://localhost:8080/"
        },
        "id": "1SzbjFeRDJEZ",
        "outputId": "44b50ad7-b12f-486e-a734-847ee8d278bf"
      },
      "source": [
        "pg, mg, fg = 98, 85, 65\n",
        "print (\"The weights of your semesral grade are:\\\n",
        "\\n\\t {} for Prelims\\\n",
        "\\n\\t {} for Midterms, and\\\n",
        "\\n\\t {} for Finals.\" .format(pg, mg, fg))"
      ],
      "execution_count": 145,
      "outputs": [
        {
          "output_type": "stream",
          "name": "stdout",
          "text": [
            "The weights of your semesral grade are:\n",
            "\t 98 for Prelims\n",
            "\t 85 for Midterms, and\n",
            "\t 65 for Finals.\n"
          ]
        }
      ]
    },
    {
      "cell_type": "code",
      "metadata": {
        "id": "UkbKdRXcFcaT"
      },
      "source": [
        "e = input(\"Enter a number: \")"
      ],
      "execution_count": null,
      "outputs": []
    },
    {
      "cell_type": "code",
      "metadata": {
        "colab": {
          "base_uri": "https://localhost:8080/"
        },
        "id": "ziJnw393F1HC",
        "outputId": "5f59ad17-566a-4d90-d51d-b4cbdddba85e"
      },
      "source": [
        "name = input(\"Enter your name: \")\n",
        "pg = input (\"Enter your prelim grade: \")\n",
        "mg = input (\"Enter your midterm grade: \")\n",
        "fg = input (\"Enter your final grade: \")\n",
        "sem_grade = None\n",
        "print (\"Hello {}, your semestral grade is: {}\".format(name, sem_grade))"
      ],
      "execution_count": 150,
      "outputs": [
        {
          "output_type": "stream",
          "name": "stdout",
          "text": [
            "Enter your name: user\n",
            "Enter your prelim grade: 69\n",
            "Enter your midterm grade: 50\n",
            "Enter your final grade: 99\n",
            "Hello user, your semestral grade is: None\n"
          ]
        }
      ]
    },
    {
      "cell_type": "markdown",
      "metadata": {
        "id": "ohm9rE4nLOu-"
      },
      "source": [
        "## Looping Statement"
      ]
    },
    {
      "cell_type": "markdown",
      "metadata": {
        "id": "HNLn_ipsLWBk"
      },
      "source": [
        "##While\n"
      ]
    },
    {
      "cell_type": "code",
      "metadata": {
        "colab": {
          "base_uri": "https://localhost:8080/"
        },
        "id": "wPBkX01YLXt-",
        "outputId": "9c0a66e8-c508-467c-c1ff-ac3815575fb3"
      },
      "source": [
        "## while loops\n",
        "i, j = 0, 10\n",
        "while(i<=j):\n",
        "  print(f\"{i}\\t|\\t{j}\")\n",
        "  i += 1"
      ],
      "execution_count": 155,
      "outputs": [
        {
          "output_type": "stream",
          "name": "stdout",
          "text": [
            "0\t|\t10\n",
            "1\t|\t10\n",
            "2\t|\t10\n",
            "3\t|\t10\n",
            "4\t|\t10\n",
            "5\t|\t10\n",
            "6\t|\t10\n",
            "7\t|\t10\n",
            "8\t|\t10\n",
            "9\t|\t10\n",
            "10\t|\t10\n"
          ]
        }
      ]
    },
    {
      "cell_type": "markdown",
      "metadata": {
        "id": "bNGux_uQL8-r"
      },
      "source": [
        "##For"
      ]
    },
    {
      "cell_type": "code",
      "metadata": {
        "colab": {
          "base_uri": "https://localhost:8080/"
        },
        "id": "Ezu1tPakL-w_",
        "outputId": "f7ae0952-0ea9-4071-d370-49c6df1fe35e"
      },
      "source": [
        "# for (int = 0; i<=10; i++){\n",
        "# printf(i)\n",
        "# }\n",
        "i = 0\n",
        "for i in range(10):\n",
        "  print(i)"
      ],
      "execution_count": 158,
      "outputs": [
        {
          "output_type": "stream",
          "name": "stdout",
          "text": [
            "0\n",
            "1\n",
            "2\n",
            "3\n",
            "4\n",
            "5\n",
            "6\n",
            "7\n",
            "8\n",
            "9\n"
          ]
        }
      ]
    },
    {
      "cell_type": "code",
      "metadata": {
        "colab": {
          "base_uri": "https://localhost:8080/"
        },
        "id": "g3gXAR4pMz-3",
        "outputId": "cb87048e-7299-4bc4-928c-e8af05690bde"
      },
      "source": [
        "playlist = [\"Bahay Kubo\", \"Magandang Kanta\", \"Buko\"]\n",
        "print(\"Now playing:\\n\")\n",
        "for song in playlist:\n",
        "  print(song)"
      ],
      "execution_count": 160,
      "outputs": [
        {
          "output_type": "stream",
          "name": "stdout",
          "text": [
            "Now playing:\n",
            "\n",
            "Bahay Kubo\n",
            "Magandang Kanta\n",
            "Buko\n"
          ]
        }
      ]
    },
    {
      "cell_type": "markdown",
      "metadata": {
        "id": "hhKTG7toNNtu"
      },
      "source": [
        "##Flow Control"
      ]
    },
    {
      "cell_type": "markdown",
      "metadata": {
        "id": "v9n4q5FUNXCd"
      },
      "source": [
        "### Condition Statements"
      ]
    },
    {
      "cell_type": "code",
      "metadata": {
        "colab": {
          "base_uri": "https://localhost:8080/"
        },
        "id": "7DOQ2OvINZvz",
        "outputId": "98906162-499b-436e-9968-80b165db4829"
      },
      "source": [
        "num_1, num_2 = 14, 12\n",
        "if(num_1 == num_2): \n",
        "  print (\"HAHA\")\n",
        "elif(num_1>num_2):\n",
        "  print (\"HOHO\")\n",
        "else:\n",
        "  print (\"HUHU\")"
      ],
      "execution_count": 164,
      "outputs": [
        {
          "output_type": "stream",
          "name": "stdout",
          "text": [
            "HOHO\n"
          ]
        }
      ]
    },
    {
      "cell_type": "markdown",
      "metadata": {
        "id": "qjZRKm0oN_FG"
      },
      "source": [
        "##Functions"
      ]
    },
    {
      "cell_type": "code",
      "metadata": {
        "id": "7eWtK3UiOAo1"
      },
      "source": [
        "# void DeleteUser (int userid){\n",
        "# delete(userid);\n",
        "#}\n",
        "\n",
        "def delete_user (userid):\n",
        "  print(\"successfully deleted user: {}\" .format(userid))"
      ],
      "execution_count": 165,
      "outputs": []
    },
    {
      "cell_type": "code",
      "metadata": {
        "colab": {
          "base_uri": "https://localhost:8080/"
        },
        "id": "ZNnZad4xOcEM",
        "outputId": "63badaf2-1b9b-46fc-9730-3dcc4daeb584"
      },
      "source": [
        "userid = 2020_100100\n",
        "delete_user(2020_100100)"
      ],
      "execution_count": 167,
      "outputs": [
        {
          "output_type": "stream",
          "name": "stdout",
          "text": [
            "successfully deleted user: 2020100100\n"
          ]
        }
      ]
    },
    {
      "cell_type": "code",
      "metadata": {
        "id": "lmnHVZNrOzyK"
      },
      "source": [
        "def add(addend1, addend2):\n",
        "  sum = addend1 + addend2\n",
        "  return sum "
      ],
      "execution_count": 170,
      "outputs": []
    },
    {
      "cell_type": "code",
      "metadata": {
        "colab": {
          "base_uri": "https://localhost:8080/"
        },
        "id": "XqjPsMrwPsut",
        "outputId": "dc6781ce-9c78-4594-f535-a2676cfb4103"
      },
      "source": [
        "add(5, 4)"
      ],
      "execution_count": 172,
      "outputs": [
        {
          "output_type": "execute_result",
          "data": {
            "text/plain": [
              "9"
            ]
          },
          "metadata": {},
          "execution_count": 172
        }
      ]
    }
  ]
}