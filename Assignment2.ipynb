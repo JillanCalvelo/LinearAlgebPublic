{
  "nbformat": 4,
  "nbformat_minor": 0,
  "metadata": {
    "colab": {
      "name": "Assignment2.ipynb",
      "provenance": [],
      "collapsed_sections": [],
      "toc_visible": true,
      "authorship_tag": "ABX9TyMcPIzOo4b2sRd+WQ/swly3",
      "include_colab_link": true
    },
    "kernelspec": {
      "name": "python3",
      "display_name": "Python 3"
    },
    "language_info": {
      "name": "python"
    }
  },
  "cells": [
    {
      "cell_type": "markdown",
      "metadata": {
        "id": "view-in-github",
        "colab_type": "text"
      },
      "source": [
        "<a href=\"https://colab.research.google.com/github/JillanCalvelo/LinearAlgebPublic/blob/main/Assignment2.ipynb\" target=\"_parent\"><img src=\"https://colab.research.google.com/assets/colab-badge.svg\" alt=\"Open In Colab\"/></a>"
      ]
    },
    {
      "cell_type": "markdown",
      "metadata": {
        "id": "2Oc7T4AL1l2C"
      },
      "source": [
        "# Welcome to Python Fundamentals\n",
        "In this module we are going to establish our skills in Python programing. In this notebook we are going to cover:\n",
        "\n",
        "*   variables and data types\n",
        "*   operations\n",
        "*   Input and output operations\n",
        "*   logic control\n",
        "*   iterables\n",
        "*   functions"
      ]
    },
    {
      "cell_type": "markdown",
      "metadata": {
        "id": "j3IrhS-SctsD"
      },
      "source": [
        ":[image](https://laptrinhcanban.com/en/python/nhap-mon-lap-trinh-python/gioi-thieu-python/python-la-gi/Python.jpg)"
      ]
    },
    {
      "cell_type": "markdown",
      "metadata": {
        "id": "EKcwDJAP2pFl"
      },
      "source": [
        "## Variabels and Data Types"
      ]
    },
    {
      "cell_type": "markdown",
      "metadata": {
        "id": "Shw429uo4qR0"
      },
      "source": [
        "\n",
        "\n",
        ">   Variable is basically a any letter that you input wherein you put a value on and in which case can be use thrughout the program as the assigned value that is put on the variable. \n",
        "\n",
        ">   According to to Mohammad Waseem (2015), a variable is a memory location where you store a value. The value that you have stored may change in the future according to the specifications.\n",
        "\n",
        "\n",
        "---\n",
        "\n",
        ">   Whereas a Data type is the type of value you can put on the variable depending on what you want the said variable to do in the program.\n",
        "\n",
        ">   As stated above based again on Mohammad Waseem (2015), there are mainly six data types in python. Although there is one more data type range which is often used while working with loops in python.\n",
        "\n",
        "\n",
        "\n"
      ]
    },
    {
      "cell_type": "code",
      "metadata": {
        "id": "T8p8P3ie09FE"
      },
      "source": [
        "x = 1\n",
        "a, b = 3, -2\n"
      ],
      "execution_count": null,
      "outputs": []
    },
    {
      "cell_type": "code",
      "metadata": {
        "id": "KtWsJuVY3eLq"
      },
      "source": [
        "type (x)"
      ],
      "execution_count": null,
      "outputs": []
    },
    {
      "cell_type": "code",
      "metadata": {
        "id": "7cSr26LA3nio"
      },
      "source": [
        "y = 3.0\n",
        "type (y)"
      ],
      "execution_count": null,
      "outputs": []
    },
    {
      "cell_type": "code",
      "metadata": {
        "id": "yierlQ6F38Tv"
      },
      "source": [
        "x = float (x)\n",
        "type (x)\n",
        "x"
      ],
      "execution_count": null,
      "outputs": []
    },
    {
      "cell_type": "code",
      "metadata": {
        "id": "XPvKma0E4Nj3"
      },
      "source": [
        "s, t, u = \"1\", '3', 'three'\n",
        "type(u)"
      ],
      "execution_count": null,
      "outputs": []
    },
    {
      "cell_type": "markdown",
      "metadata": {
        "id": "SsDQkUAa4oKI"
      },
      "source": [
        "##Operations\n"
      ]
    },
    {
      "cell_type": "markdown",
      "metadata": {
        "id": "CnfsONBzE6g4"
      },
      "source": [
        "\n",
        "> It is used to perform operations on values and variables you have set on the \n",
        "\n",
        "program. These are symbols and operations used for the purpose of logical and \n",
        "\n",
        "arithmetic operations that you want to perform on the variable and data types \n",
        "\n",
        "that you have set on the program. \n",
        "\n",
        "\n",
        "\n",
        "\n",
        "\n"
      ]
    },
    {
      "cell_type": "markdown",
      "metadata": {
        "id": "UIYrTqY6444Y"
      },
      "source": [
        "\n",
        "\n",
        "```\n",
        "# This is formatted as code\n",
        "```\n",
        "\n",
        "###Arithmetic"
      ]
    },
    {
      "cell_type": "markdown",
      "metadata": {
        "id": "42OWKrLkHBaO"
      },
      "source": [
        "\n",
        "\n",
        ">  Its an operator wherein it's use in performing mathematical operations such as addition, subtraction, multiplication, and division to the given values on the program you want to be operated.\n",
        "\n"
      ]
    },
    {
      "cell_type": "code",
      "metadata": {
        "id": "cZc6Fah742zc"
      },
      "source": [
        "w, x, y, z = 4.0, -3.0, 2, -32"
      ],
      "execution_count": null,
      "outputs": []
    },
    {
      "cell_type": "code",
      "metadata": {
        "id": "S3fJT0_m5EFC"
      },
      "source": [
        "### Addition\n",
        "S = w + x"
      ],
      "execution_count": null,
      "outputs": []
    },
    {
      "cell_type": "code",
      "metadata": {
        "id": "Ai-tI1Lg510-"
      },
      "source": [
        "### Subtraction\n",
        "D = y - z"
      ],
      "execution_count": null,
      "outputs": []
    },
    {
      "cell_type": "code",
      "metadata": {
        "id": "inzmSJL958hH"
      },
      "source": [
        "### Multiplication\n",
        "P = w*z"
      ],
      "execution_count": null,
      "outputs": []
    },
    {
      "cell_type": "code",
      "metadata": {
        "id": "G09zeICs6Ei1"
      },
      "source": [
        "### Division\n",
        "Q = y/x"
      ],
      "execution_count": null,
      "outputs": []
    },
    {
      "cell_type": "code",
      "metadata": {
        "id": "Z7tfYARt6WXS"
      },
      "source": [
        "### Floor Division\n",
        "Qf = w//z"
      ],
      "execution_count": null,
      "outputs": []
    },
    {
      "cell_type": "code",
      "metadata": {
        "id": "K5SByu1z7EiD"
      },
      "source": [
        "### Exponnentiation\n",
        "E = w**w"
      ],
      "execution_count": null,
      "outputs": []
    },
    {
      "cell_type": "code",
      "metadata": {
        "id": "XmfBTx_27YXZ"
      },
      "source": [
        "### Module\n",
        "mod = z%x"
      ],
      "execution_count": null,
      "outputs": []
    },
    {
      "cell_type": "markdown",
      "metadata": {
        "id": "NruVZCVQ7yLK"
      },
      "source": [
        "### Assignment\n"
      ]
    },
    {
      "cell_type": "markdown",
      "metadata": {
        "id": "YzFRWh4XJBxg"
      },
      "source": [
        "\n",
        "\n",
        "> As the name said, it assigns values on the following variable you have set on the program. It uses a arithmetic symbol such as the addition symbol plus an equal sign to assign the value on the variable.\n",
        "\n"
      ]
    },
    {
      "cell_type": "code",
      "metadata": {
        "id": "AWt2e6sn7y3c"
      },
      "source": [
        "A, B, C, D, E = 0, 100, 2, 1, 2"
      ],
      "execution_count": null,
      "outputs": []
    },
    {
      "cell_type": "code",
      "metadata": {
        "id": "kEvs2S6H74yE"
      },
      "source": [
        "A += w"
      ],
      "execution_count": null,
      "outputs": []
    },
    {
      "cell_type": "code",
      "metadata": {
        "id": "ZnS2gznZ8P5f"
      },
      "source": [
        "B -= x"
      ],
      "execution_count": null,
      "outputs": []
    },
    {
      "cell_type": "code",
      "metadata": {
        "id": "hlRkA-_28a-d"
      },
      "source": [
        "C *= w"
      ],
      "execution_count": null,
      "outputs": []
    },
    {
      "cell_type": "code",
      "metadata": {
        "id": "2FynBP7N885k",
        "colab": {
          "base_uri": "https://localhost:8080/"
        },
        "outputId": "178dc660-58da-4194-aa7c-bb0a0fa01cf3"
      },
      "source": [
        "D /= x\n",
        "D"
      ],
      "execution_count": null,
      "outputs": [
        {
          "output_type": "execute_result",
          "data": {
            "text/plain": [
              "-0.3333333333333333"
            ]
          },
          "metadata": {},
          "execution_count": 13
        }
      ]
    },
    {
      "cell_type": "code",
      "metadata": {
        "colab": {
          "base_uri": "https://localhost:8080/"
        },
        "id": "cNQ3vDDE9fEi",
        "outputId": "50825755-0e81-4fa0-85fa-b8c3ba4c92f6"
      },
      "source": [
        "E **= y\n",
        "E\n"
      ],
      "execution_count": null,
      "outputs": [
        {
          "output_type": "execute_result",
          "data": {
            "text/plain": [
              "4"
            ]
          },
          "metadata": {},
          "execution_count": 14
        }
      ]
    },
    {
      "cell_type": "markdown",
      "metadata": {
        "id": "6SQytOCs-Si4"
      },
      "source": [
        "###Comparators"
      ]
    },
    {
      "cell_type": "markdown",
      "metadata": {
        "id": "KXh-lHP1HnaH"
      },
      "source": [
        "\n",
        "\n",
        "> Basically it is a type of operators where it compares the values you want to compare in the program. It either returns True or False according to the condition you have set in the program.\n",
        "\n"
      ]
    },
    {
      "cell_type": "code",
      "metadata": {
        "id": "5QQSWWIJ-V5d"
      },
      "source": [
        "size_1, size_2, size_3 = 1, 2.0, \"1\" \n",
        "true_size = 1.0"
      ],
      "execution_count": null,
      "outputs": []
    },
    {
      "cell_type": "code",
      "metadata": {
        "colab": {
          "base_uri": "https://localhost:8080/"
        },
        "id": "fVI7yWpc-rG3",
        "outputId": "058d81a1-0d0f-4d94-f69d-a883f5e6423a"
      },
      "source": [
        "## Equality\n",
        "size_1 == true_size"
      ],
      "execution_count": null,
      "outputs": [
        {
          "output_type": "execute_result",
          "data": {
            "text/plain": [
              "True"
            ]
          },
          "metadata": {},
          "execution_count": 16
        }
      ]
    },
    {
      "cell_type": "code",
      "metadata": {
        "colab": {
          "base_uri": "https://localhost:8080/"
        },
        "id": "KOAkzl2x-2Lj",
        "outputId": "3dfe7973-000c-4e7e-efee-6f068a56c1f2"
      },
      "source": [
        "## Non-Equality\n",
        "size_2 != true_size"
      ],
      "execution_count": null,
      "outputs": [
        {
          "output_type": "execute_result",
          "data": {
            "text/plain": [
              "True"
            ]
          },
          "metadata": {},
          "execution_count": 17
        }
      ]
    },
    {
      "cell_type": "code",
      "metadata": {
        "id": "mT39EFyK_A7j"
      },
      "source": [
        "## Inequality\n",
        "s1 = size_1 > size_2\n",
        "s2 = size_1 < size_2/2\n",
        "s3 = true_size >= size_1\n",
        "s4 = size_2 <= true_size\n"
      ],
      "execution_count": null,
      "outputs": []
    },
    {
      "cell_type": "markdown",
      "metadata": {
        "id": "qNNkXrZa_-be"
      },
      "source": [
        "###Logical"
      ]
    },
    {
      "cell_type": "markdown",
      "metadata": {
        "id": "OQVU0ontIrws"
      },
      "source": [
        "\n",
        "\n",
        "> It perform three Logical operations and these are: AND,  OR, and NOT operations. It is used to combine conditional statements you have set on your program.\n",
        "\n"
      ]
    },
    {
      "cell_type": "code",
      "metadata": {
        "colab": {
          "base_uri": "https://localhost:8080/"
        },
        "id": "djsj2Dar___4",
        "outputId": "ccb9e1a0-f8c0-49e7-9ac0-c63a916e6422"
      },
      "source": [
        "size_1 == true_size"
      ],
      "execution_count": null,
      "outputs": [
        {
          "output_type": "execute_result",
          "data": {
            "text/plain": [
              "True"
            ]
          },
          "metadata": {},
          "execution_count": 19
        }
      ]
    },
    {
      "cell_type": "code",
      "metadata": {
        "colab": {
          "base_uri": "https://localhost:8080/"
        },
        "id": "pOm7pkt8AHLU",
        "outputId": "36f8626e-ddaf-4cd6-a75d-8d20875303a7"
      },
      "source": [
        "size_1 is true_size"
      ],
      "execution_count": null,
      "outputs": [
        {
          "output_type": "execute_result",
          "data": {
            "text/plain": [
              "False"
            ]
          },
          "metadata": {},
          "execution_count": 20
        }
      ]
    },
    {
      "cell_type": "code",
      "metadata": {
        "colab": {
          "base_uri": "https://localhost:8080/"
        },
        "id": "RY7Pgxx9ANN1",
        "outputId": "ce3fce8d-edda-4540-cd38-3a1bd8fcd33c"
      },
      "source": [
        "size_1 is not true_size"
      ],
      "execution_count": null,
      "outputs": [
        {
          "output_type": "execute_result",
          "data": {
            "text/plain": [
              "True"
            ]
          },
          "metadata": {},
          "execution_count": 21
        }
      ]
    },
    {
      "cell_type": "code",
      "metadata": {
        "colab": {
          "base_uri": "https://localhost:8080/"
        },
        "id": "rJJqc-ibAgcw",
        "outputId": "51b882ed-71c9-474a-f23b-8fc308d23fac"
      },
      "source": [
        "P, Q = True, False\n",
        "conj = P and Q\n",
        "conj"
      ],
      "execution_count": null,
      "outputs": [
        {
          "output_type": "execute_result",
          "data": {
            "text/plain": [
              "False"
            ]
          },
          "metadata": {},
          "execution_count": 22
        }
      ]
    },
    {
      "cell_type": "code",
      "metadata": {
        "colab": {
          "base_uri": "https://localhost:8080/"
        },
        "id": "izeaRFRcA5Va",
        "outputId": "5819c6bf-5623-4237-be2c-7db8e2501054"
      },
      "source": [
        "disj = P or Q\n",
        "disj"
      ],
      "execution_count": null,
      "outputs": [
        {
          "output_type": "execute_result",
          "data": {
            "text/plain": [
              "True"
            ]
          },
          "metadata": {},
          "execution_count": 23
        }
      ]
    },
    {
      "cell_type": "code",
      "metadata": {
        "colab": {
          "base_uri": "https://localhost:8080/"
        },
        "id": "6MTuf8zbBIWC",
        "outputId": "7150d233-be70-4a53-f35c-47ee52f0a0f7"
      },
      "source": [
        "nand = not ( P and Q)\n",
        "nand"
      ],
      "execution_count": null,
      "outputs": [
        {
          "output_type": "execute_result",
          "data": {
            "text/plain": [
              "True"
            ]
          },
          "metadata": {},
          "execution_count": 24
        }
      ]
    },
    {
      "cell_type": "code",
      "metadata": {
        "colab": {
          "base_uri": "https://localhost:8080/"
        },
        "id": "vfochQWCBhSO",
        "outputId": "e089ca69-41b4-4a02-c0c0-60f4b3c90707"
      },
      "source": [
        "xor = (not P and Q) or (P and not Q)\n",
        "xor"
      ],
      "execution_count": null,
      "outputs": [
        {
          "output_type": "execute_result",
          "data": {
            "text/plain": [
              "True"
            ]
          },
          "metadata": {},
          "execution_count": 25
        }
      ]
    },
    {
      "cell_type": "markdown",
      "metadata": {
        "id": "sbMQ2jR_BzV6"
      },
      "source": [
        "## Input and Output"
      ]
    },
    {
      "cell_type": "markdown",
      "metadata": {
        "id": "4m3PT0jlJ-27"
      },
      "source": [
        "\n",
        "\n",
        "> This performs commands wherein it inputs data and outputs it based on the command such as string or print that is set on the program.\n",
        "\n"
      ]
    },
    {
      "cell_type": "code",
      "metadata": {
        "colab": {
          "base_uri": "https://localhost:8080/"
        },
        "id": "_UZqYy2oB1k6",
        "outputId": "39953506-e318-4059-e5b1-dcad897dc936"
      },
      "source": [
        "print (\"Hello world!\")"
      ],
      "execution_count": null,
      "outputs": [
        {
          "output_type": "stream",
          "name": "stdout",
          "text": [
            "Hello world!\n"
          ]
        }
      ]
    },
    {
      "cell_type": "code",
      "metadata": {
        "id": "dYKx5uqjCB7p"
      },
      "source": [
        "cnt = 14000"
      ],
      "execution_count": null,
      "outputs": []
    },
    {
      "cell_type": "code",
      "metadata": {
        "colab": {
          "base_uri": "https://localhost:8080/"
        },
        "id": "DCyS5QSCCIvO",
        "outputId": "286f5471-d9d3-4cf8-de63-c60be31e0710"
      },
      "source": [
        "string = \"Hello world!\"\n",
        "print (string, \", Current run count is:\", cnt)\n",
        "cnt += 10000"
      ],
      "execution_count": null,
      "outputs": [
        {
          "output_type": "stream",
          "name": "stdout",
          "text": [
            "Hello world! , Current run count is: 54000\n"
          ]
        }
      ]
    },
    {
      "cell_type": "code",
      "metadata": {
        "colab": {
          "base_uri": "https://localhost:8080/"
        },
        "id": "QKOnWmoTC4VO",
        "outputId": "12ef8a44-517b-49ed-c709-f69e36f65fe3"
      },
      "source": [
        "print (f\"{string}, Current count is: {cnt}\")"
      ],
      "execution_count": null,
      "outputs": [
        {
          "output_type": "stream",
          "name": "stdout",
          "text": [
            "Hello world!, Current count is: 64000\n"
          ]
        }
      ]
    },
    {
      "cell_type": "code",
      "metadata": {
        "colab": {
          "base_uri": "https://localhost:8080/"
        },
        "id": "tTwe-FHVDxIU",
        "outputId": "467e3b0e-2238-4be6-dad2-0367a86ca276"
      },
      "source": [
        "sem_grade = 86.25\n",
        "name = \"Eugene\"\n",
        "print (\"Hello {}, your semestral grade is: {}\" .format(name, sem_grade))"
      ],
      "execution_count": null,
      "outputs": [
        {
          "output_type": "stream",
          "name": "stdout",
          "text": [
            "Hello Eugene, your semestral grade is: 86.25\n"
          ]
        }
      ]
    },
    {
      "cell_type": "code",
      "metadata": {
        "colab": {
          "base_uri": "https://localhost:8080/"
        },
        "id": "1SzbjFeRDJEZ",
        "outputId": "44b50ad7-b12f-486e-a734-847ee8d278bf"
      },
      "source": [
        "pg, mg, fg = 98, 85, 65\n",
        "print (\"The weights of your semesral grade are:\\\n",
        "\\n\\t {} for Prelims\\\n",
        "\\n\\t {} for Midterms, and\\\n",
        "\\n\\t {} for Finals.\" .format(pg, mg, fg))"
      ],
      "execution_count": null,
      "outputs": [
        {
          "output_type": "stream",
          "name": "stdout",
          "text": [
            "The weights of your semesral grade are:\n",
            "\t 98 for Prelims\n",
            "\t 85 for Midterms, and\n",
            "\t 65 for Finals.\n"
          ]
        }
      ]
    },
    {
      "cell_type": "code",
      "metadata": {
        "id": "UkbKdRXcFcaT"
      },
      "source": [
        "e = input(\"Enter a number: \")"
      ],
      "execution_count": null,
      "outputs": []
    },
    {
      "cell_type": "code",
      "metadata": {
        "colab": {
          "base_uri": "https://localhost:8080/"
        },
        "id": "ziJnw393F1HC",
        "outputId": "5f59ad17-566a-4d90-d51d-b4cbdddba85e"
      },
      "source": [
        "name = input(\"Enter your name: \")\n",
        "pg = input (\"Enter your prelim grade: \")\n",
        "mg = input (\"Enter your midterm grade: \")\n",
        "fg = input (\"Enter your final grade: \")\n",
        "sem_grade = None\n",
        "print (\"Hello {}, your semestral grade is: {}\".format(name, sem_grade))"
      ],
      "execution_count": null,
      "outputs": [
        {
          "output_type": "stream",
          "name": "stdout",
          "text": [
            "Enter your name: user\n",
            "Enter your prelim grade: 69\n",
            "Enter your midterm grade: 50\n",
            "Enter your final grade: 99\n",
            "Hello user, your semestral grade is: None\n"
          ]
        }
      ]
    },
    {
      "cell_type": "markdown",
      "metadata": {
        "id": "ohm9rE4nLOu-"
      },
      "source": [
        "## Looping Statement"
      ]
    },
    {
      "cell_type": "markdown",
      "metadata": {
        "id": "EtUcpwt_eXTy"
      },
      "source": [
        "\n",
        "\n",
        "> Just as the name stated, it is a command where it loops any value or varialbes you have inputed on the said program using command such as while loop and for loop.\n",
        "\n"
      ]
    },
    {
      "cell_type": "markdown",
      "metadata": {
        "id": "HNLn_ipsLWBk"
      },
      "source": [
        "##While\n"
      ]
    },
    {
      "cell_type": "code",
      "metadata": {
        "colab": {
          "base_uri": "https://localhost:8080/"
        },
        "id": "wPBkX01YLXt-",
        "outputId": "9c0a66e8-c508-467c-c1ff-ac3815575fb3"
      },
      "source": [
        "## while loops\n",
        "i, j = 0, 10\n",
        "while(i<=j):\n",
        "  print(f\"{i}\\t|\\t{j}\")\n",
        "  i += 1"
      ],
      "execution_count": null,
      "outputs": [
        {
          "output_type": "stream",
          "name": "stdout",
          "text": [
            "0\t|\t10\n",
            "1\t|\t10\n",
            "2\t|\t10\n",
            "3\t|\t10\n",
            "4\t|\t10\n",
            "5\t|\t10\n",
            "6\t|\t10\n",
            "7\t|\t10\n",
            "8\t|\t10\n",
            "9\t|\t10\n",
            "10\t|\t10\n"
          ]
        }
      ]
    },
    {
      "cell_type": "markdown",
      "metadata": {
        "id": "bNGux_uQL8-r"
      },
      "source": [
        "##For"
      ]
    },
    {
      "cell_type": "code",
      "metadata": {
        "colab": {
          "base_uri": "https://localhost:8080/"
        },
        "id": "Ezu1tPakL-w_",
        "outputId": "f7ae0952-0ea9-4071-d370-49c6df1fe35e"
      },
      "source": [
        "# for (int = 0; i<=10; i++){\n",
        "# printf(i)\n",
        "# }\n",
        "i = 0\n",
        "for i in range(10):\n",
        "  print(i)"
      ],
      "execution_count": null,
      "outputs": [
        {
          "output_type": "stream",
          "name": "stdout",
          "text": [
            "0\n",
            "1\n",
            "2\n",
            "3\n",
            "4\n",
            "5\n",
            "6\n",
            "7\n",
            "8\n",
            "9\n"
          ]
        }
      ]
    },
    {
      "cell_type": "code",
      "metadata": {
        "colab": {
          "base_uri": "https://localhost:8080/"
        },
        "id": "g3gXAR4pMz-3",
        "outputId": "cb87048e-7299-4bc4-928c-e8af05690bde"
      },
      "source": [
        "playlist = [\"Bahay Kubo\", \"Magandang Kanta\", \"Buko\"]\n",
        "print(\"Now playing:\\n\")\n",
        "for song in playlist:\n",
        "  print(song)"
      ],
      "execution_count": null,
      "outputs": [
        {
          "output_type": "stream",
          "name": "stdout",
          "text": [
            "Now playing:\n",
            "\n",
            "Bahay Kubo\n",
            "Magandang Kanta\n",
            "Buko\n"
          ]
        }
      ]
    },
    {
      "cell_type": "markdown",
      "metadata": {
        "id": "hhKTG7toNNtu"
      },
      "source": [
        "##Flow Control"
      ]
    },
    {
      "cell_type": "markdown",
      "metadata": {
        "id": "v9n4q5FUNXCd"
      },
      "source": [
        "### Condition Statements"
      ]
    },
    {
      "cell_type": "markdown",
      "metadata": {
        "id": "0gaxuSzMrTq_"
      },
      "source": [
        "\n",
        "\n",
        "> It is also knwon as decision-making statements wherein it is used to execute the specific block of code if the given condition is true or false on the program.\n",
        "\n"
      ]
    },
    {
      "cell_type": "markdown",
      "metadata": {
        "id": "DIPJ6m3FfIvi"
      },
      "source": [
        "\n",
        "> \n",
        "\n",
        "\n"
      ]
    },
    {
      "cell_type": "code",
      "metadata": {
        "colab": {
          "base_uri": "https://localhost:8080/"
        },
        "id": "7DOQ2OvINZvz",
        "outputId": "98906162-499b-436e-9968-80b165db4829"
      },
      "source": [
        "num_1, num_2 = 14, 12\n",
        "if(num_1 == num_2): \n",
        "  print (\"HAHA\")\n",
        "elif(num_1>num_2):\n",
        "  print (\"HOHO\")\n",
        "else:\n",
        "  print (\"HUHU\")"
      ],
      "execution_count": null,
      "outputs": [
        {
          "output_type": "stream",
          "name": "stdout",
          "text": [
            "HOHO\n"
          ]
        }
      ]
    },
    {
      "cell_type": "markdown",
      "metadata": {
        "id": "qjZRKm0oN_FG"
      },
      "source": [
        "##Functions"
      ]
    },
    {
      "cell_type": "markdown",
      "metadata": {
        "id": "A5yytt85rrC9"
      },
      "source": [
        "\n",
        "\n",
        "> It is a piece of code written to carry out a specified task wherein it compresses a complicated set of instructions into a sub-program so it won't need to have many inputs.\n",
        "\n"
      ]
    },
    {
      "cell_type": "code",
      "metadata": {
        "id": "7eWtK3UiOAo1"
      },
      "source": [
        "# void DeleteUser (int userid){\n",
        "# delete(userid);\n",
        "#}\n",
        "\n",
        "def delete_user (userid):\n",
        "  print(\"successfully deleted user: {}\" .format(userid))"
      ],
      "execution_count": null,
      "outputs": []
    },
    {
      "cell_type": "code",
      "metadata": {
        "colab": {
          "base_uri": "https://localhost:8080/"
        },
        "id": "ZNnZad4xOcEM",
        "outputId": "63badaf2-1b9b-46fc-9730-3dcc4daeb584"
      },
      "source": [
        "userid = 2020_100100\n",
        "delete_user(2020_100100)"
      ],
      "execution_count": null,
      "outputs": [
        {
          "output_type": "stream",
          "name": "stdout",
          "text": [
            "successfully deleted user: 2020100100\n"
          ]
        }
      ]
    },
    {
      "cell_type": "code",
      "metadata": {
        "id": "lmnHVZNrOzyK"
      },
      "source": [
        "def add(addend1, addend2):\n",
        "  sum = addend1 + addend2\n",
        "  return sum "
      ],
      "execution_count": null,
      "outputs": []
    },
    {
      "cell_type": "code",
      "metadata": {
        "colab": {
          "base_uri": "https://localhost:8080/"
        },
        "id": "XqjPsMrwPsut",
        "outputId": "dc6781ce-9c78-4594-f535-a2676cfb4103"
      },
      "source": [
        "add(5, 4)"
      ],
      "execution_count": null,
      "outputs": [
        {
          "output_type": "execute_result",
          "data": {
            "text/plain": [
              "9"
            ]
          },
          "metadata": {},
          "execution_count": 172
        }
      ]
    },
    {
      "cell_type": "markdown",
      "metadata": {
        "id": "q73nU6MTFKIl"
      },
      "source": [
        "#Reference:\n",
        "\n",
        "\n",
        "---\n",
        "\n",
        "\n",
        "\n",
        "*   Waseem, M.( 2021,Jul 15 ). What Are Variables And Data Types In Python? https://www.edureka.co/blog/variables-and-data-types-in-python/\n",
        "\n",
        "*   N.A.( 2021, Sep 27 ). Python Operators. https://www.geeksforgeeks.org/python-operators/.\n",
        "\n",
        "*  N.A.( 2021, August 27 ). Python Conditional Statements: If_else, Elif, Nested If Statement. https://www.softwaretestinghelp.com/python/python-conditional-statements/\n",
        "  \n",
        "*  Willems, K.( 2020, January 3rd ).Python Functions Tutorial.https://www.datacamp.com/community/tutorials/functions-python-tutorial\n",
        "\n",
        "\n",
        "\n",
        "\n",
        "\n"
      ]
    }
  ]
}