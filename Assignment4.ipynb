{
  "nbformat": 4,
  "nbformat_minor": 0,
  "metadata": {
    "colab": {
      "name": "Assignment4.ipynb",
      "provenance": [],
      "collapsed_sections": [],
      "toc_visible": true,
      "authorship_tag": "ABX9TyNx9pS/3ZooN08k2pc1hjUL",
      "include_colab_link": true
    },
    "kernelspec": {
      "name": "python3",
      "display_name": "Python 3"
    },
    "language_info": {
      "name": "python"
    }
  },
  "cells": [
    {
      "cell_type": "markdown",
      "metadata": {
        "id": "view-in-github",
        "colab_type": "text"
      },
      "source": [
        "<a href=\"https://colab.research.google.com/github/JillanCalvelo/LinearAlgebPublic/blob/main/Assignment4.ipynb\" target=\"_parent\"><img src=\"https://colab.research.google.com/assets/colab-badge.svg\" alt=\"Open In Colab\"/></a>"
      ]
    },
    {
      "cell_type": "markdown",
      "metadata": {
        "id": "v1blgp527EAk"
      },
      "source": [
        "#Lab Activity 4:\n",
        "##Matrices"
      ]
    },
    {
      "cell_type": "markdown",
      "metadata": {
        "id": "ievZ-HsD7Nsh"
      },
      "source": [
        "### Objectives\n",
        "At the end of this activity you will be able to:\n",
        "1. Be familiar with matrices and their relation to linear equations.\n",
        "2. Perform basic matrix operations.\n",
        "3. Program and translate matrix equations and operations using Python."
      ]
    },
    {
      "cell_type": "code",
      "metadata": {
        "id": "2pbwsjOgIfrF"
      },
      "source": [
        "import numpy as np\n",
        "import matplotlib.pyplot as plt\n",
        "import scipy.linalg as la\n",
        "%matplotlib inline"
      ],
      "execution_count": 2,
      "outputs": []
    },
    {
      "cell_type": "markdown",
      "metadata": {
        "id": "yNTOj6V39_te"
      },
      "source": [
        "##Activity"
      ]
    },
    {
      "cell_type": "markdown",
      "metadata": {
        "id": "lTaCg-u5-FRn"
      },
      "source": [
        "###Task 1\n",
        "Create a function named `desc_mat()` that througouhly describes a matrix, it should: <br>\n",
        "1. Displays the shape, size, and rank of the matrix. <br>\n",
        "2. Displays whether the matrix is square or non-square. <br>\n",
        "3. Displays whether the matrix is an empty matrix. <br>\n",
        "4. Displays if the matrix is an identity, ones, or zeros matrix <br>\n",
        "   \n",
        "Use 5 sample matrices in which their shapes are not lower than $(3,3)$.\n",
        "In your methodology, create a flowchart discuss the functions and methods you have done. Present your results in the results section showing the description of each matrix you have declared."
      ]
    },
    {
      "cell_type": "markdown",
      "metadata": {
        "id": "bLz6oUCo33zB"
      },
      "source": [
        "### Function area"
      ]
    },
    {
      "cell_type": "code",
      "metadata": {
        "id": "9WIP4HlJ-Pw9"
      },
      "source": [
        "def desc_mat(matrix):\n",
        "    print(f'Matrix:\\n{matrix}\\n\\nShape:\\t{matrix.shape}\\nRank:\\t{matrix.ndim}\\n')"
      ],
      "execution_count": 21,
      "outputs": []
    },
    {
      "cell_type": "markdown",
      "metadata": {
        "id": "VrVeEaHfyo7k"
      },
      "source": [
        "###Matrix Declaration"
      ]
    },
    {
      "cell_type": "code",
      "metadata": {
        "id": "qLcnJvW9-aYT"
      },
      "source": [
        "\n",
        "## Null Matrix\n",
        "null_mat = np.array([])\n"
      ],
      "execution_count": 4,
      "outputs": []
    },
    {
      "cell_type": "code",
      "metadata": {
        "id": "p3jw4REhynJ8"
      },
      "source": [
        "## Zero Matrix\n",
        "zero_mat_sqr = np.zeros((3,3))"
      ],
      "execution_count": 8,
      "outputs": []
    },
    {
      "cell_type": "code",
      "metadata": {
        "id": "GMUN4s6vyv07"
      },
      "source": [
        "## Ones Matrix\n",
        "ones_mat_sqr = np.ones((3,3))"
      ],
      "execution_count": 7,
      "outputs": []
    },
    {
      "cell_type": "code",
      "metadata": {
        "id": "Fa4N2oXAy_HR"
      },
      "source": [
        "## Diagonal Matrix\n",
        "A = np.array([\n",
        "    [3, 0, 0],\n",
        "    [0, 3, 0],\n",
        "    [0, 0, 9]\n",
        "])"
      ],
      "execution_count": 9,
      "outputs": []
    },
    {
      "cell_type": "code",
      "metadata": {
        "id": "iLpOMwZJzC3D"
      },
      "source": [
        "## Identity Matrix\n",
        "# np.identity(3)\n"
      ],
      "execution_count": 13,
      "outputs": []
    },
    {
      "cell_type": "code",
      "metadata": {
        "id": "ZssK1SOtzGce"
      },
      "source": [
        "## Upper Triangular Matrix\n",
        "B = np.array([\n",
        "    [1, 8, 1],\n",
        "    [0, 4, 7],\n",
        "    [0, 0, 9]\n",
        "])"
      ],
      "execution_count": 17,
      "outputs": []
    },
    {
      "cell_type": "code",
      "metadata": {
        "id": "O2Vkio7pzOA0"
      },
      "source": [
        "#Lower Triangular Matrix\n",
        "C = np.array([\n",
        "    [2, 0, 0],\n",
        "    [6, 4, 0],\n",
        "    [7, 7, 1]\n",
        "])"
      ],
      "execution_count": 18,
      "outputs": []
    },
    {
      "cell_type": "markdown",
      "metadata": {
        "id": "Fam-_JMSeLuM"
      },
      "source": [
        "### Test Areas"
      ]
    },
    {
      "cell_type": "code",
      "metadata": {
        "id": "dMlCae0S-eoy",
        "colab": {
          "base_uri": "https://localhost:8080/"
        },
        "outputId": "239b350b-e31f-4704-98cf-6127b7ba3970"
      },
      "source": [
        "## Null Matrix\n",
        "desc_mat(null_mat)"
      ],
      "execution_count": 6,
      "outputs": [
        {
          "output_type": "stream",
          "name": "stdout",
          "text": [
            "Matrix:\n",
            "[]\n",
            "\n",
            "Shape:\t(0,)\n",
            "Rank:\t1\n",
            "\n"
          ]
        }
      ]
    },
    {
      "cell_type": "code",
      "metadata": {
        "colab": {
          "base_uri": "https://localhost:8080/"
        },
        "id": "rLBz4bSYeZAC",
        "outputId": "27363cbb-546e-46d6-d97f-fc9954cce0ab"
      },
      "source": [
        "## Zero Matrix\n",
        "desc_mat(zero_mat_sqr)\n"
      ],
      "execution_count": 10,
      "outputs": [
        {
          "output_type": "stream",
          "name": "stdout",
          "text": [
            "Matrix:\n",
            "[[0. 0. 0.]\n",
            " [0. 0. 0.]\n",
            " [0. 0. 0.]]\n",
            "\n",
            "Shape:\t(3, 3)\n",
            "Rank:\t2\n",
            "\n"
          ]
        }
      ]
    },
    {
      "cell_type": "code",
      "metadata": {
        "colab": {
          "base_uri": "https://localhost:8080/"
        },
        "id": "CQu_zj7sefzh",
        "outputId": "e7ac1f53-1d45-4ae7-aed5-25688da9bdea"
      },
      "source": [
        "## Ones Matrix\n",
        "desc_mat(ones_mat_sqr)"
      ],
      "execution_count": 11,
      "outputs": [
        {
          "output_type": "stream",
          "name": "stdout",
          "text": [
            "Matrix:\n",
            "[[1. 1. 1.]\n",
            " [1. 1. 1.]\n",
            " [1. 1. 1.]]\n",
            "\n",
            "Shape:\t(3, 3)\n",
            "Rank:\t2\n",
            "\n"
          ]
        }
      ]
    },
    {
      "cell_type": "code",
      "metadata": {
        "colab": {
          "base_uri": "https://localhost:8080/"
        },
        "id": "nhr9db5yeig6",
        "outputId": "2e23320e-dd10-4035-90d7-98a99bbb52a5"
      },
      "source": [
        "## Diagonal Matrix\n",
        "desc_mat(A)"
      ],
      "execution_count": 15,
      "outputs": [
        {
          "output_type": "stream",
          "name": "stdout",
          "text": [
            "Matrix:\n",
            "[[3 0 0]\n",
            " [0 3 0]\n",
            " [0 0 9]]\n",
            "\n",
            "Shape:\t(3, 3)\n",
            "Rank:\t2\n",
            "\n"
          ]
        }
      ]
    },
    {
      "cell_type": "code",
      "metadata": {
        "colab": {
          "base_uri": "https://localhost:8080/"
        },
        "id": "RbtjzmoceyIE",
        "outputId": "3e869a22-c373-4ca1-dcc4-8442bd91ed3f"
      },
      "source": [
        "## Identity Matrix\n",
        "np.identity(3)"
      ],
      "execution_count": 14,
      "outputs": [
        {
          "output_type": "execute_result",
          "data": {
            "text/plain": [
              "array([[1., 0., 0.],\n",
              "       [0., 1., 0.],\n",
              "       [0., 0., 1.]])"
            ]
          },
          "metadata": {},
          "execution_count": 14
        }
      ]
    },
    {
      "cell_type": "code",
      "metadata": {
        "colab": {
          "base_uri": "https://localhost:8080/"
        },
        "id": "fChJb7Tue3ao",
        "outputId": "f08e694c-4c8c-4fc8-fc59-5808722d6334"
      },
      "source": [
        "## Upper Triangular Matrix\n",
        "desc_mat(B)"
      ],
      "execution_count": 19,
      "outputs": [
        {
          "output_type": "stream",
          "name": "stdout",
          "text": [
            "Matrix:\n",
            "[[1 8 1]\n",
            " [0 4 7]\n",
            " [0 0 9]]\n",
            "\n",
            "Shape:\t(3, 3)\n",
            "Rank:\t2\n",
            "\n"
          ]
        }
      ]
    },
    {
      "cell_type": "code",
      "metadata": {
        "colab": {
          "base_uri": "https://localhost:8080/"
        },
        "id": "A2DOXGV5e90D",
        "outputId": "10e2e056-e6f0-4851-d306-a6e3b25f9d74"
      },
      "source": [
        "#Lower Triangular Matrix\n",
        "desc_mat(C)"
      ],
      "execution_count": 20,
      "outputs": [
        {
          "output_type": "stream",
          "name": "stdout",
          "text": [
            "Matrix:\n",
            "[[2 0 0]\n",
            " [6 4 0]\n",
            " [7 7 1]]\n",
            "\n",
            "Shape:\t(3, 3)\n",
            "Rank:\t2\n",
            "\n"
          ]
        }
      ]
    },
    {
      "cell_type": "markdown",
      "metadata": {
        "id": "ywyNT2pgaXoo"
      },
      "source": [
        "###Task 2\n",
        "Create a function named `mat_operations()` that takes in two matrices a input parameters it should:<br>\n",
        " 1. Determines if the matrices are viable for operation and returns your own error message if they are not viable.\n",
        " 2. Returns the sum of the matrices.\n",
        " 3. Returns the differen of the matrices.\n",
        " 4. Returns the element-wise multiplication of the matrices.\n",
        " 5. Returns the element-wise division of the matrices.\n",
        "\n",
        "Use 5 sample matrices in which their shapes are not lower than $(3,3)$.\n",
        "In your methodology, create a flowchart discuss the functions and methods you have done. Present your results in the results section showing the description of each matrix you have declared."
      ]
    },
    {
      "cell_type": "markdown",
      "metadata": {
        "id": "RbCmTBUd3ySJ"
      },
      "source": [
        "###Function area"
      ]
    },
    {
      "cell_type": "code",
      "metadata": {
        "id": "fpYy7VIAbI4U"
      },
      "source": [
        "def mat_operations(matrix):\n",
        "    print(f'Matrix:\\n{matrix}\\n\\nShape:\\t{matrix.shape}\\nRank:\\t{matrix.ndim}\\n')"
      ],
      "execution_count": 22,
      "outputs": []
    },
    {
      "cell_type": "markdown",
      "metadata": {
        "id": "ki3oz3Ts31lM"
      },
      "source": [
        "###Matrix Declaration"
      ]
    },
    {
      "cell_type": "code",
      "metadata": {
        "id": "FXXChyewbJP2"
      },
      "source": [
        "## Addition\n",
        "A = np.array([\n",
        "    [3,1,9],\n",
        "    [2,0,7],\n",
        "    [7,1,7]\n",
        "])\n",
        "B = np.array([\n",
        "    [3,2,3],\n",
        "    [0,4,0],\n",
        "    [1,1,1]\n",
        "])"
      ],
      "execution_count": 23,
      "outputs": []
    },
    {
      "cell_type": "code",
      "metadata": {
        "id": "szOY1VrUCbnz"
      },
      "source": [
        "## Subtraction\n",
        "D = np.array([\n",
        "    [4,1,1],\n",
        "    [3,5,5],\n",
        "    [0,7,0]\n",
        "])\n",
        "E = np.array([\n",
        "    [9,2,6],\n",
        "    [9,1,0],\n",
        "    [0,0,6]\n",
        "])"
      ],
      "execution_count": 24,
      "outputs": []
    },
    {
      "cell_type": "code",
      "metadata": {
        "id": "olYok3MQC9hF"
      },
      "source": [
        "## element-wise multiplication\n",
        "F = np.array([\n",
        "    [2,2,2],\n",
        "    [4,3,4],\n",
        "    [5,7,7]\n",
        "])\n",
        "G = np.array([\n",
        "    [3,3,3],\n",
        "    [0,1,9],\n",
        "    [0,0,6]\n",
        "])"
      ],
      "execution_count": 32,
      "outputs": []
    },
    {
      "cell_type": "code",
      "metadata": {
        "id": "GLLCcFRgfVQt"
      },
      "source": [
        "## element-wise division\n",
        "H = np.array([\n",
        "    [10,12,21],\n",
        "    [15,9,0],\n",
        "    [20,22,11]\n",
        "])\n",
        "I = np.array([\n",
        "    [2,6,7],\n",
        "    [5,3,1],\n",
        "    [10,11,1]\n",
        "])"
      ],
      "execution_count": 42,
      "outputs": []
    },
    {
      "cell_type": "markdown",
      "metadata": {
        "id": "c0ob7VEhfgQ-"
      },
      "source": [
        "### Test Areas"
      ]
    },
    {
      "cell_type": "code",
      "metadata": {
        "colab": {
          "base_uri": "https://localhost:8080/"
        },
        "id": "GaEr7DItffvH",
        "outputId": "f0d880c2-2683-455b-fa39-e8110f6c1d2b"
      },
      "source": [
        "## Addition\n",
        "C = A+B\n",
        "mat_operations(C)"
      ],
      "execution_count": 25,
      "outputs": [
        {
          "output_type": "stream",
          "name": "stdout",
          "text": [
            "Matrix:\n",
            "[[ 6  3 12]\n",
            " [ 2  4  7]\n",
            " [ 8  2  8]]\n",
            "\n",
            "Shape:\t(3, 3)\n",
            "Rank:\t2\n",
            "\n"
          ]
        }
      ]
    },
    {
      "cell_type": "code",
      "metadata": {
        "colab": {
          "base_uri": "https://localhost:8080/"
        },
        "id": "3pnR7BBFfnRD",
        "outputId": "513aac07-915b-4ac0-cd65-ce7f4e545b96"
      },
      "source": [
        "np.add(A,B)"
      ],
      "execution_count": 26,
      "outputs": [
        {
          "output_type": "execute_result",
          "data": {
            "text/plain": [
              "array([[ 6,  3, 12],\n",
              "       [ 2,  4,  7],\n",
              "       [ 8,  2,  8]])"
            ]
          },
          "metadata": {},
          "execution_count": 26
        }
      ]
    },
    {
      "cell_type": "code",
      "metadata": {
        "colab": {
          "base_uri": "https://localhost:8080/"
        },
        "id": "5wlh5pR5fqJM",
        "outputId": "91ac6fff-e797-4594-d1c7-47439dcac2a0"
      },
      "source": [
        "## Subtraction\n",
        "S = D-E\n",
        "mat_operations(S)"
      ],
      "execution_count": 27,
      "outputs": [
        {
          "output_type": "stream",
          "name": "stdout",
          "text": [
            "Matrix:\n",
            "[[-5 -1 -5]\n",
            " [-6  4  5]\n",
            " [ 0  7 -6]]\n",
            "\n",
            "Shape:\t(3, 3)\n",
            "Rank:\t2\n",
            "\n"
          ]
        }
      ]
    },
    {
      "cell_type": "code",
      "metadata": {
        "colab": {
          "base_uri": "https://localhost:8080/"
        },
        "id": "cA32jdo7fwRD",
        "outputId": "287c830d-ed9b-4ae9-b317-9504f3e0618d"
      },
      "source": [
        "np.subtract(D,E)"
      ],
      "execution_count": 30,
      "outputs": [
        {
          "output_type": "execute_result",
          "data": {
            "text/plain": [
              "array([[-5, -1, -5],\n",
              "       [-6,  4,  5],\n",
              "       [ 0,  7, -6]])"
            ]
          },
          "metadata": {},
          "execution_count": 30
        }
      ]
    },
    {
      "cell_type": "code",
      "metadata": {
        "colab": {
          "base_uri": "https://localhost:8080/"
        },
        "id": "_514t934gKi_",
        "outputId": "e4d96b85-9212-4a99-ae22-c1ae7f25f54a"
      },
      "source": [
        "## element-wise multiplication\n",
        "M = F*G\n",
        "mat_operations(M)"
      ],
      "execution_count": 33,
      "outputs": [
        {
          "output_type": "stream",
          "name": "stdout",
          "text": [
            "Matrix:\n",
            "[[ 6  6  6]\n",
            " [ 0  3 36]\n",
            " [ 0  0 42]]\n",
            "\n",
            "Shape:\t(3, 3)\n",
            "Rank:\t2\n",
            "\n"
          ]
        }
      ]
    },
    {
      "cell_type": "code",
      "metadata": {
        "colab": {
          "base_uri": "https://localhost:8080/"
        },
        "id": "J8gIPP_1g-q2",
        "outputId": "392b24bd-06e1-4c46-da50-0d6c1f91630b"
      },
      "source": [
        "np.multiply(F,G)"
      ],
      "execution_count": 34,
      "outputs": [
        {
          "output_type": "execute_result",
          "data": {
            "text/plain": [
              "array([[ 6,  6,  6],\n",
              "       [ 0,  3, 36],\n",
              "       [ 0,  0, 42]])"
            ]
          },
          "metadata": {},
          "execution_count": 34
        }
      ]
    },
    {
      "cell_type": "code",
      "metadata": {
        "colab": {
          "base_uri": "https://localhost:8080/"
        },
        "id": "hpOBID72huek",
        "outputId": "c93f5fea-e72b-40da-a993-95a364abae66"
      },
      "source": [
        "2*F"
      ],
      "execution_count": 37,
      "outputs": [
        {
          "output_type": "execute_result",
          "data": {
            "text/plain": [
              "array([[ 4,  4,  4],\n",
              "       [ 8,  6,  8],\n",
              "       [10, 14, 14]])"
            ]
          },
          "metadata": {},
          "execution_count": 37
        }
      ]
    },
    {
      "cell_type": "code",
      "metadata": {
        "colab": {
          "base_uri": "https://localhost:8080/"
        },
        "id": "mbIf6U7ahwbi",
        "outputId": "21b79481-01c7-4070-8d2e-89f54a0fcad2"
      },
      "source": [
        "4*G"
      ],
      "execution_count": 39,
      "outputs": [
        {
          "output_type": "execute_result",
          "data": {
            "text/plain": [
              "array([[12, 12, 12],\n",
              "       [ 0,  4, 36],\n",
              "       [ 0,  0, 24]])"
            ]
          },
          "metadata": {},
          "execution_count": 39
        }
      ]
    },
    {
      "cell_type": "code",
      "metadata": {
        "colab": {
          "base_uri": "https://localhost:8080/"
        },
        "id": "BMcoriy-hAwc",
        "outputId": "1bd29a2a-8f20-4368-aa84-643bdb48c138"
      },
      "source": [
        "## element-wise division\n",
        "V = H/I\n",
        "mat_operations(V)"
      ],
      "execution_count": 43,
      "outputs": [
        {
          "output_type": "stream",
          "name": "stdout",
          "text": [
            "Matrix:\n",
            "[[ 5.  2.  3.]\n",
            " [ 3.  3.  0.]\n",
            " [ 2.  2. 11.]]\n",
            "\n",
            "Shape:\t(3, 3)\n",
            "Rank:\t2\n",
            "\n"
          ]
        }
      ]
    },
    {
      "cell_type": "code",
      "metadata": {
        "colab": {
          "base_uri": "https://localhost:8080/"
        },
        "id": "E71wmFkUh0zo",
        "outputId": "143dd198-ba7f-4961-edb0-9623d5363762"
      },
      "source": [
        "np.divide(H,I)"
      ],
      "execution_count": 44,
      "outputs": [
        {
          "output_type": "execute_result",
          "data": {
            "text/plain": [
              "array([[ 5.,  2.,  3.],\n",
              "       [ 3.,  3.,  0.],\n",
              "       [ 2.,  2., 11.]])"
            ]
          },
          "metadata": {},
          "execution_count": 44
        }
      ]
    },
    {
      "cell_type": "code",
      "metadata": {
        "colab": {
          "base_uri": "https://localhost:8080/"
        },
        "id": "E5fKUoTVh_cM",
        "outputId": "a3351050-6e78-4cc3-9b19-d216c7eb7e78"
      },
      "source": [
        "H/5"
      ],
      "execution_count": 47,
      "outputs": [
        {
          "output_type": "execute_result",
          "data": {
            "text/plain": [
              "array([[2. , 2.4, 4.2],\n",
              "       [3. , 1.8, 0. ],\n",
              "       [4. , 4.4, 2.2]])"
            ]
          },
          "metadata": {},
          "execution_count": 47
        }
      ]
    },
    {
      "cell_type": "code",
      "metadata": {
        "colab": {
          "base_uri": "https://localhost:8080/"
        },
        "id": "apNSadt3iDCj",
        "outputId": "99f02631-4220-4f3a-b2a5-d4ac217ae2b7"
      },
      "source": [
        "1/I"
      ],
      "execution_count": 48,
      "outputs": [
        {
          "output_type": "execute_result",
          "data": {
            "text/plain": [
              "array([[0.5       , 0.16666667, 0.14285714],\n",
              "       [0.2       , 0.33333333, 1.        ],\n",
              "       [0.1       , 0.09090909, 1.        ]])"
            ]
          },
          "metadata": {},
          "execution_count": 48
        }
      ]
    },
    {
      "cell_type": "markdown",
      "metadata": {
        "id": "2dFYKldubNWF"
      },
      "source": [
        "## Conclusion"
      ]
    },
    {
      "cell_type": "markdown",
      "metadata": {
        "id": "B0zMtHdabQRS"
      },
      "source": [
        "I therefore conclude that there is a variety of use of matrices and its different categories and elements at python and programming that we can manipulate and use in order to get different type of elemental values and linear combinations that then we can use to compute different matrix algebraic solutions such as addition and even element wise multiplication. .There are many ways that matrix operations do that would help in our technology and advancement today. One of the uses fpr matrices are to model the wireless signals and to optimize them. For detection, extractions and processing of the information embedded in signals matrices are used. Matrices play a key role in signal estimation and detection problems. They are used in sensor array signal processing and design of adaptive filters. Matrices help in processing and representing digital images."
      ]
    },
    {
      "cell_type": "markdown",
      "metadata": {
        "id": "-czKHlZyEaRR"
      },
      "source": [
        "##Reference:\n",
        " [1] N.A. “Application of Matrices”,taken from: https://www.vedantu.com/maths/application-of-matrices"
      ]
    }
  ]
}